# 🔬 EDA Enhanced: Correlazioni Avanzate tra Feature

Questo notebook estende l'analisi esistente con correlazioni avanzate tra tutte le feature (non solo con i target), includendo:

## 🎯 Nuove Analisi Implementate:
1. **Point-Biserial Correlation**: Numeriche ↔ Binarie
2. **Phi Coefficient**: Binarie ↔ Binarie  
3. **Distance Correlation**: Relazioni non-lineari
4. **Enhanced Mutual Information**: Tutti i tipi con normalizzazione
5. **Auto-detection** dei tipi di variabili
6. **Test di significatività** per tutte le correlazioni
7. **Effect size interpretation**

## 📊 Benefici:
- **Rilevamento automatico** del tipo di correlazione appropriata
- **Matrice completa** delle relazioni tra feature
- **Significatività statistica** con p-values
- **Interpretazione effect size** per tutte le metriche
- **Performance ottimizzata** con parallelizzazione