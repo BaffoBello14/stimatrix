# Collinearità tra feature non-target e associazioni feature-feature (num, cat, mixed)
from scipy.cluster.hierarchy import linkage, fcluster

# Prepara liste feature escludendo tutti i target disponibili
all_targets_set = set(available_targets) if 'available_targets' in globals() else {target_col}
features_numeric = [c for c in numeric_cols_all if c not in all_targets_set]
features_categorical = [c for c in categorical_cols_all if c not in all_targets_set]

print(f"🔢 Feature numeriche (no target): {len(features_numeric)}")
print(f"🔠 Feature categoriche (no target): {len(features_categorical)}")

# 1) Collinearità tra numeriche: Pearson/Spearman/Kendall + high-corr pairs + clustering
num_df_all = df_raw[features_numeric].copy()
num_df_dropna = num_df_all.dropna()

if num_df_dropna.shape[1] >= 2 and len(num_df_dropna) >= 10:
    pearson_ff = num_df_dropna.corr(numeric_only=True, method='pearson')
    spearman_ff = num_df_dropna.corr(numeric_only=True, method='spearman')
    kendall_ff = num_df_dropna.corr(numeric_only=True, method='kendall')

    pearson_ff.to_csv(output_dir / 'feature_feature_pearson.csv')
    spearman_ff.to_csv(output_dir / 'feature_feature_spearman.csv')
    kendall_ff.to_csv(output_dir / 'feature_feature_kendall.csv')
    print("💾 Salvate matrici di correlazione feature-feature (pearson/spearman/kendall)")

    # High-corr pairs (assoluta)
    pairs = []
    abs_corr = pearson_ff.abs()
    for i, col_i in enumerate(abs_corr.columns):
        for j in range(i+1, abs_corr.shape[1]):
            col_j = abs_corr.columns[j]
            r = abs_corr.iloc[i, j]
            if np.isfinite(r) and r >= high_corr_threshold:
                pairs.append({'feature_1': col_i, 'feature_2': col_j, 'abs_pearson': float(r)})
    high_pairs_df = pd.DataFrame(pairs).sort_values('abs_pearson', ascending=False)
    high_pairs_df.to_csv(output_dir / 'high_correlation_pairs.csv', index=False)
    print(f"💾 Coppie ad alta correlazione (|r|>={high_corr_threshold}) salvate in high_correlation_pairs.csv")

    # Clustering semplice basato su distanza 1-|r|
    try:
        dist = 1 - abs_corr.values
        # Convert to condensed distance for linkage: keep upper triangle values excluding diagonal
        iu = np.triu_indices_from(abs_corr, k=1)
        condensed = dist[iu]
        Z = linkage(condensed, method='average')
        # Taglia cluster a soglia di similarità: se |r|>=threshold -> distanza<=1-threshold
        max_dist = 1 - high_corr_threshold
        cluster_labels = fcluster(Z, t=max_dist, criterion='distance')
        clusters = {}
        cols = abs_corr.columns.tolist()
        for col, label in zip(cols, cluster_labels):
            clusters.setdefault(label, []).append(col)
        cluster_rows = []
        for label, members in clusters.items():
            cluster_rows.append({'cluster_id': int(label), 'size': int(len(members)), 'members': ",".join(members)})
        cluster_df = pd.DataFrame(cluster_rows).sort_values(['size', 'cluster_id'], ascending=[False, True])
        cluster_df.to_csv(output_dir / 'numeric_feature_clusters.csv', index=False)
        print("💾 Clustering di feature numeriche salvato in numeric_feature_clusters.csv")
    except Exception as e:
        print(f"⚠️ Clustering numerico non riuscito: {e}")
else:
    print("⚠️ Non abbastanza dati per correlazioni numeriche feature-feature")

# 2) VIF sulle numeriche (collinearità multivariata)
try:
    # Limita a colonne con varianza > 0 e almeno qualche non-null
    vif_input = num_df_all.loc[:, [c for c in features_numeric if num_df_all[c].notna().sum() > 50 and num_df_all[c].nunique() > 1]]
    if vif_input.shape[1] >= 2:
        vif_df = compute_vif(vif_input)
        vif_df.to_csv(output_dir / 'vif_features.csv', index=False)
        print("💾 VIF salvato in vif_features.csv")
        display(vif_df.head(20))
    else:
        print("⚠️ Non abbastanza feature numeriche valide per VIF")
except Exception as e:
    print(f"⚠️ VIF non riuscito: {e}")

# 3) Cat-Cat: Cramer's V bias-corrected (con soglia cardinalità)
cat_pairs_rows = []
for i, col_i in enumerate(features_categorical):
    if df_raw[col_i].nunique(dropna=True) > max_cat_cardinality:
        continue
    for j in range(i+1, len(features_categorical)):
        col_j = features_categorical[j]
        if df_raw[col_j].nunique(dropna=True) > max_cat_cardinality:
            continue
        v = cramers_v_bias_corrected(df_raw[col_i], df_raw[col_j])
        cat_pairs_rows.append({'feature_1': col_i, 'feature_2': col_j, 'cramers_v': v})
catcat_df = pd.DataFrame(cat_pairs_rows).dropna()
if not catcat_df.empty:
    catcat_df['abs_v'] = catcat_df['cramers_v'].abs()
    catcat_df.sort_values('abs_v', ascending=False, inplace=True)
    catcat_df.to_csv(output_dir / 'feature_feature_cramers_v.csv', index=False)
    print("💾 Cat-Cat Cramer's V salvato in feature_feature_cramers_v.csv")
    display(catcat_df.head(20))
else:
    print("ℹ️ Nessuna coppia cat-cat valutabile (soglie o dati insufficienti)")

# 4) Num-Cat (feature-feature, non target): correlation ratio
numcat_rows = []
for col_num in features_numeric:
    for col_cat in features_categorical:
        if df_raw[col_cat].nunique(dropna=True) > max_cat_cardinality:
            continue
        eta = correlation_ratio(df_raw[col_cat], df_raw[col_num])
        numcat_rows.append({'numeric_feature': col_num, 'categorical_feature': col_cat, 'eta_correlation_ratio': eta})
numcat_df = pd.DataFrame(numcat_rows).dropna()
if not numcat_df.empty:
    numcat_df['abs_eta'] = numcat_df['eta_correlation_ratio'].abs()
    numcat_df.sort_values('abs_eta', ascending=False, inplace=True)
    numcat_df.to_csv(output_dir / 'feature_feature_mixed_eta.csv', index=False)
    print("💾 Num-Cat correlation ratio salvato in feature_feature_mixed_eta.csv")
    display(numcat_df.head(20))
else:
    print("ℹ️ Nessuna coppia num-cat valutabile (soglie o dati insufficienti)")


numeric_cols_all: List[str] = df_raw.select_dtypes(include=[np.number]).columns.tolist()
categorical_cols_all: List[str] = df_raw.select_dtypes(include=['object', 'category', 'bool']).columns.tolist()

# Rimuovi target dalle liste feature per analisi predictor-only

def get_predictor_columns(target: str) -> Tuple[List[str], List[str]]:
    numeric_cols = [c for c in numeric_cols_all if c != target]
    categorical_cols = [c for c in categorical_cols_all if c != target]
    return numeric_cols, categorical_cols

# Cramer's V bias-corrected
from scipy.stats import chi2_contingency

def cramers_v_bias_corrected(x: pd.Series, y: pd.Series) -> float:
    contingency = pd.crosstab(x, y)
    if contingency.shape[0] < 2 or contingency.shape[1] < 2:
        return np.nan
    chi2, _, _, _ = chi2_contingency(contingency)
    n = contingency.values.sum()
    phi2 = chi2 / n
    r, k = contingency.shape
    phi2corr = max(0, phi2 - (k - 1) * (r - 1) / (n - 1))
    rcorr = r - (r - 1) ** 2 / (n - 1)
    kcorr = k - (k - 1) ** 2 / (n - 1)
    denom = min((kcorr - 1), (rcorr - 1))
    if denom <= 0:
        return np.nan
    return math.sqrt(phi2corr / denom)

# Correlation Ratio (eta) per (categoria -> numerico)

def correlation_ratio(categories: pd.Series, measurements: pd.Series) -> float:
    valid_mask = categories.notna() & measurements.notna()
    categories = categories[valid_mask]
    measurements = measurements[valid_mask]
    if len(measurements) < 3:
        return np.nan
    groups = []
    for cat_val, group_vals in measurements.groupby(categories):
        if len(group_vals) >= 2:
            groups.append(group_vals.values)
    if len(groups) < 2:
        return np.nan
    all_vals = np.concatenate(groups)
    grand_mean = all_vals.mean()
    ss_between = sum([len(g) * (g.mean() - grand_mean) ** 2 for g in groups])
    ss_total = ((all_vals - grand_mean) ** 2).sum()
    if ss_total == 0:
        return 0.0
    return float(np.sqrt(ss_between / ss_total))

# ANOVA F-test rapido (richiede >=2 gruppi con >=2 campioni)
from scipy.stats import f_oneway

def anova_f_test(categories: pd.Series, measurements: pd.Series) -> Tuple[float, float]:
    valid_mask = categories.notna() & measurements.notna()
    categories = categories[valid_mask]
    measurements = measurements[valid_mask]
    groups = [vals.values for _, vals in measurements.groupby(categories) if len(vals) >= 2]
    if len(groups) < 2:
        return np.nan, np.nan
    try:
        f_stat, p_val = f_oneway(*groups)
        return float(f_stat), float(p_val)
    except Exception:
        return np.nan, np.nan

# Mutual Information: categoria (discreta) -> target numerico (continuo)

def mi_cat_to_num(cat_series: pd.Series, y: pd.Series) -> float:
    valid_mask = cat_series.notna() & y.notna()
    x = cat_series[valid_mask]
    yv = y[valid_mask].astype(float)
    if len(yv) < 50 or x.nunique() < 2:
        return np.nan
    try:
        le = LabelEncoder()
        x_enc = le.fit_transform(x.astype(str))
        mi = mutual_info_regression(x_enc.reshape(-1, 1), yv, discrete_features=True, random_state=42)
        return float(mi[0])
    except Exception:
        return np.nan

# VIF helper

def compute_vif(df_num: pd.DataFrame) -> pd.DataFrame:
    # Imputazione semplice (mediana) e aggiunta costante
    X = df_num.copy()
    for col in X.columns:
        if X[col].isna().any():
            X[col] = X[col].fillna(X[col].median())
    X = sm.add_constant(X, has_constant='add')
    vif_rows = []
    for idx, feature_name in enumerate(X.columns):
        if feature_name == 'const':
            continue
        try:
            vif_value = variance_inflation_factor(X.values, idx)
        except Exception:
            vif_value = np.nan
        vif_rows.append({'feature': feature_name, 'vif': float(vif_value) if np.isfinite(vif_value) else np.nan})
    return pd.DataFrame(vif_rows).sort_values('vif', ascending=False)

# Parametri
high_corr_threshold: float = float(config.get('correlation', {}).get('numeric_threshold', 0.80))
max_cat_cardinality: int = 50  # per evitare tabelle enormi
min_valid_samples_pair: int = 100

# Analisi per ciascun target disponibile
for target in available_targets:
    if target not in df_raw.columns:
        continue
    print("\n" + "="*60)
    print(f"🔎 Associazioni avanzate per target: {target}")
    print("="*60)

    numeric_cols, categorical_cols = get_predictor_columns(target)

    # 1) Num-Num: Pearson, Spearman, Kendall
    num_df = df_raw[numeric_cols + [target]].dropna()
    assoc_rows = []
    if len(num_df) > 0:
        pearson = num_df.corr(numeric_only=True, method='pearson')[target].drop(target)
        spearman = num_df.corr(numeric_only=True, method='spearman')[target].drop(target)
        kendall = num_df.corr(numeric_only=True, method='kendall')[target].drop(target)
        for col in pearson.index:
            assoc_rows.append({
                'feature': col,
                'feature_type': 'numeric',
                'metric': 'pearson',
                'value': float(pearson.loc[col])
            })
            assoc_rows.append({
                'feature': col,
                'feature_type': 'numeric',
                'metric': 'spearman',
                'value': float(spearman.loc[col])
            })
            assoc_rows.append({
                'feature': col,
                'feature_type': 'numeric',
                'metric': 'kendall',
                'value': float(kendall.loc[col])
            })
    
    # 2) Cat-Num: Correlation Ratio, ANOVA F, MI (discreto -> continuo)
    for col in categorical_cols:
        series_cat = df_raw[col]
        # Skippa cardinalità troppo alta
        if series_cat.nunique(dropna=True) > max_cat_cardinality:
            continue
        eta = correlation_ratio(series_cat, df_raw[target])
        f_stat, p_val = anova_f_test(series_cat, df_raw[target])
        mi_val = mi_cat_to_num(series_cat, df_raw[target])
        assoc_rows.append({'feature': col, 'feature_type': 'categorical', 'metric': 'eta_correlation_ratio', 'value': eta})
        assoc_rows.append({'feature': col, 'feature_type': 'categorical', 'metric': 'anova_f', 'value': f_stat})
        assoc_rows.append({'feature': col, 'feature_type': 'categorical', 'metric': 'anova_p_value', 'value': p_val})
        assoc_rows.append({'feature': col, 'feature_type': 'categorical', 'metric': 'mutual_information', 'value': mi_val})

    assoc_df = pd.DataFrame(assoc_rows)
    if not assoc_df.empty:
        assoc_df['abs_value'] = assoc_df['value'].abs()
        out_path = output_dir / f"associations_with_{target}.csv"
        assoc_df.to_csv(out_path, index=False)
        print(f"💾 Associazioni avanzate salvate in {out_path}")
        # Anteprima top segnali
        top_preview = assoc_df.sort_values('abs_value', ascending=False).groupby('metric').head(5)
        display(top_preview)
    else:
        print("⚠️ Nessuna associazione calcolabile per questo target.")
- diagnosticare la collinearità tra le feature non-target (VIF, clustering){
 "cells": [
  {
   "cell_type": "markdown",
   "id": "c65179d3",
   "metadata": {},
   "source": [
    "\n",
    "# 📊 Exploratory Data Analysis - Raw Dataset\n",
    "\n",
    "Questo notebook esegue un'analisi esplorativa completa del dataset raw per il progetto StiMatrix.\n",
    "\n",
    "## 🎯 Obiettivi dell'analisi:\n",
    "1. Caricamento configurazione e dati\n",
    "2. Overview del dataset (shape, dtypes, memoria, head)\n",
    "3. Analisi missingness e cardinalità categoriche\n",
    "4. Distribuzione del target `AI_Prezzo_Ridistribuito`\n",
    "5. Summary per gruppi (`AI_ZonaOmi`, `AI_IdCategoriaCatastale`)\n",
    "6. Correlazioni con il target\n",
    "7. Check geospaziale rapido\n"
   ]
  },
  {
   "cell_type": "markdown",
   "id": "0342bae2",
   "metadata": {},
   "source": [
    "## 1. Setup e caricamento dati"
   ]
  },
  {
   "cell_type": "code",
   "execution_count": 1,
   "id": "ea49a7d3",
   "metadata": {},
   "outputs": [
    {
     "name": "stdout",
     "output_type": "stream",
     "text": [
      "✅ Setup completato! Tutte le librerie caricate correttamente.\n"
     ]
    }
   ],
   "source": [
    "\n",
    "# Import delle librerie necessarie\n",
    "import pandas as pd\n",
    "import numpy as np\n",
    "import matplotlib.pyplot as plt\n",
    "import seaborn as sns\n",
    "import yaml\n",
    "import os\n",
    "import re\n",
    "from pathlib import Path\n",
    "from scipy import stats as scipy_stats\n",
    "import warnings\n",
    "warnings.filterwarnings('ignore')\n",
    "\n",
    "# Configurazione matplotlib per grafici più leggibili\n",
    "plt.style.use('default')\n",
    "plt.rcParams['figure.figsize'] = (12, 8)\n",
    "plt.rcParams['font.size'] = 10\n",
    "\n",
    "print(\"✅ Setup completato! Tutte le librerie caricate correttamente.\")\n"
   ]
  },
  {
   "cell_type": "code",
   "execution_count": 2,
   "id": "036cd902",
   "metadata": {},
   "outputs": [
    {
     "name": "stdout",
     "output_type": "stream",
     "text": [
      "📁 Directory output: eda_outputs\n",
      "✅ Config caricata da: ../config/config.yaml\n",
      "✅ Dataset caricato da: ../data/raw/raw.parquet\n",
      "📊 Dimensioni: 5,733 righe × 262 colonne\n",
      "💾 Memoria utilizzata: 43.63 MB\n",
      "🎯 Target identificato: AI_Prezzo_Ridistribuito\n"
     ]
    }
   ],
   "source": [
    "\n",
    "# Setup output directory\n",
    "output_dir = Path('eda_outputs')\n",
    "output_dir.mkdir(parents=True, exist_ok=True)\n",
    "print(f\"📁 Directory output: {output_dir}\")\n",
    "\n",
    "# Carica configurazione\n",
    "config_path = '../config/config.yaml'\n",
    "try:\n",
    "    with open(config_path, 'r', encoding='utf-8') as f:\n",
    "        config = yaml.safe_load(f)\n",
    "    print(f\"✅ Config caricata da: {config_path}\")\n",
    "except Exception as e:\n",
    "    print(f\"❌ Errore nel caricamento config: {e}\")\n",
    "    raise\n",
    "\n",
    "# Carica dataset\n",
    "data_path = '../data/raw/raw.parquet'\n",
    "try:\n",
    "    df_raw = pd.read_parquet(data_path)\n",
    "    print(f\"✅ Dataset caricato da: {data_path}\")\n",
    "    print(f\"📊 Dimensioni: {df_raw.shape[0]:,} righe × {df_raw.shape[1]} colonne\")\n",
    "    print(f\"💾 Memoria utilizzata: {df_raw.memory_usage(deep=True).sum() / 1024**2:.2f} MB\")\n",
    "    \n",
    "    target_col = config['target']['column_candidates'][0]\n",
    "    print(f\"🎯 Target identificato: {target_col}\")\n",
    "except Exception as e:\n",
    "    print(f\"❌ Errore nel caricamento dati: {e}\")\n",
    "    raise\n"
   ]
  },
  {
   "cell_type": "markdown",
   "id": "e904e38c",
   "metadata": {},
   "source": [
    "## 2. Overview del dataset"
   ]
  },
  {
   "cell_type": "code",
   "execution_count": 3,
   "id": "e94e8a1d",
   "metadata": {},
   "outputs": [
    {
     "name": "stdout",
     "output_type": "stream",
     "text": [
      "============================================================\n",
      "📋 OVERVIEW DATASET\n",
      "============================================================\n",
      "\n",
      "📊 Dimensioni: 5,733 righe × 262 colonne\n",
      "💾 Memoria utilizzata: 43.63 MB\n",
      "\n",
      "📋 Tipi di dati:\n",
      "  float64: 149 colonne\n",
      "  object: 65 colonne\n",
      "  int64: 43 colonne\n",
      "  bool: 5 colonne\n"
     ]
    }
   ],
   "source": [
    "\n",
    "print(\"=\" * 60)\n",
    "print(\"📋 OVERVIEW DATASET\")\n",
    "print(\"=\" * 60)\n",
    "\n",
    "print(f\"\\n📊 Dimensioni: {df_raw.shape[0]:,} righe × {df_raw.shape[1]} colonne\")\n",
    "memory_mb = df_raw.memory_usage(deep=True).sum() / 1024**2\n",
    "print(f\"💾 Memoria utilizzata: {memory_mb:.2f} MB\")\n",
    "\n",
    "print(f\"\\n📋 Tipi di dati:\")\n",
    "dtype_counts = df_raw.dtypes.value_counts()\n",
    "for dtype, count in dtype_counts.items():\n",
    "    print(f\"  {dtype}: {count} colonne\")\n"
   ]
  },
  {
   "cell_type": "code",
   "execution_count": 4,
   "id": "34bc8bc1",
   "metadata": {},
   "outputs": [
    {
     "name": "stdout",
     "output_type": "stream",
     "text": [
      "\n",
      "🔍 Prime 5 righe del dataset:\n"
     ]
    },
    {
     "data": {
      "application/vnd.microsoft.datawrangler.viewer.v0+json": {
       "columns": [
        {
         "name": "index",
         "rawType": "int64",
         "type": "integer"
        },
        {
         "name": "A_AnnoStipula",
         "rawType": "int64",
         "type": "integer"
        },
        {
         "name": "A_MeseStipula",
         "rawType": "int64",
         "type": "integer"
        },
        {
         "name": "A_Anno",
         "rawType": "int64",
         "type": "integer"
        },
        {
         "name": "A_Semestre",
         "rawType": "object",
         "type": "string"
        },
        {
         "name": "A_RegPart",
         "rawType": "float64",
         "type": "float"
        },
        {
         "name": "A_IdConservatoria",
         "rawType": "object",
         "type": "string"
        },
        {
         "name": "A_IdTipologiaAtto",
         "rawType": "object",
         "type": "string"
        },
        {
         "name": "A_IdDecodificaAtto",
         "rawType": "object",
         "type": "string"
        },
        {
         "name": "A_TotaleImmobili",
         "rawType": "int64",
         "type": "integer"
        },
        {
         "name": "A_Numero",
         "rawType": "int64",
         "type": "integer"
        },
        {
         "name": "A_Codice",
         "rawType": "object",
         "type": "unknown"
        },
        {
         "name": "A_IdTipoConsistenza",
         "rawType": "object",
         "type": "string"
        },
        {
         "name": "A_AcquirentiCount",
         "rawType": "int64",
         "type": "integer"
        },
        {
         "name": "A_VenditoriCount",
         "rawType": "int64",
         "type": "integer"
        },
        {
         "name": "A_DatiCatastaliCompleti",
         "rawType": "bool",
         "type": "boolean"
        },
        {
         "name": "A_EtaMediaAcquirenti",
         "rawType": "float64",
         "type": "float"
        },
        {
         "name": "A_EtaMediaVenditori",
         "rawType": "float64",
         "type": "float"
        },
        {
         "name": "A_AcquirentiVenditoriStessoCognome",
         "rawType": "bool",
         "type": "boolean"
        },
        {
         "name": "A_VenditoriEredita",
         "rawType": "object",
         "type": "unknown"
        },
        {
         "name": "A_ImmobiliPrincipaliConSuperficieValorizzata",
         "rawType": "bool",
         "type": "boolean"
        },
        {
         "name": "AI_Id",
         "rawType": "object",
         "type": "string"
        },
        {
         "name": "AI_IdSettoreMercato",
         "rawType": "object",
         "type": "string"
        },
        {
         "name": "AI_IdCategoriaCatastale",
         "rawType": "object",
         "type": "string"
        },
        {
         "name": "AI_Numero",
         "rawType": "int64",
         "type": "integer"
        },
        {
         "name": "AI_IdComune",
         "rawType": "object",
         "type": "string"
        },
        {
         "name": "AI_SezioneAmministrativa",
         "rawType": "object",
         "type": "unknown"
        },
        {
         "name": "AI_Foglio",
         "rawType": "object",
         "type": "string"
        },
        {
         "name": "AI_Particella",
         "rawType": "object",
         "type": "string"
        },
        {
         "name": "AI_Subalterno",
         "rawType": "object",
         "type": "unknown"
        },
        {
         "name": "AI_ZonaOmi",
         "rawType": "object",
         "type": "string"
        },
        {
         "name": "AI_Via",
         "rawType": "object",
         "type": "string"
        },
        {
         "name": "AI_Civico",
         "rawType": "object",
         "type": "unknown"
        },
        {
         "name": "AI_Latitudine",
         "rawType": "float64",
         "type": "float"
        },
        {
         "name": "AI_Longitudine",
         "rawType": "float64",
         "type": "float"
        },
        {
         "name": "AI_QuotaFavore",
         "rawType": "int64",
         "type": "integer"
        },
        {
         "name": "AI_Posizione",
         "rawType": "object",
         "type": "string"
        },
        {
         "name": "AI_Piano",
         "rawType": "object",
         "type": "unknown"
        },
        {
         "name": "AI_Rendita",
         "rawType": "float64",
         "type": "float"
        },
        {
         "name": "AI_ConsistenzaValore",
         "rawType": "float64",
         "type": "float"
        },
        {
         "name": "AI_ConsistenzaUm",
         "rawType": "object",
         "type": "string"
        },
        {
         "name": "AI_SuperficieCalcolata",
         "rawType": "float64",
         "type": "float"
        },
        {
         "name": "AI_IdTipologiaEdilizia",
         "rawType": "object",
         "type": "string"
        },
        {
         "name": "AI_ParticellaAttuale",
         "rawType": "object",
         "type": "string"
        },
        {
         "name": "AI_IdParticellaCatastale",
         "rawType": "int64",
         "type": "integer"
        },
        {
         "name": "AI_VisuraScaricata",
         "rawType": "bool",
         "type": "boolean"
        },
        {
         "name": "AI_VisuraErrore",
         "rawType": "object",
         "type": "unknown"
        },
        {
         "name": "AI_VisuraParseMutazioniSoggettive",
         "rawType": "bool",
         "type": "boolean"
        },
        {
         "name": "AI_VisuraParseMutazioniSoggettiveErrore",
         "rawType": "object",
         "type": "unknown"
        },
        {
         "name": "AI_SuperficieVisuraTotale",
         "rawType": "float64",
         "type": "float"
        },
        {
         "name": "AI_SuperficieVisuraTotaleE",
         "rawType": "float64",
         "type": "float"
        },
        {
         "name": "AI_SuperficieVisuraTotaleAttuale",
         "rawType": "float64",
         "type": "float"
        },
        {
         "name": "AI_SuperficieVisuraTotaleEAttuale",
         "rawType": "float64",
         "type": "float"
        },
        {
         "name": "AI_Superficie",
         "rawType": "float64",
         "type": "float"
        },
        {
         "name": "AI_IdTipologiaEdiliziaAlternativa",
         "rawType": "object",
         "type": "unknown"
        },
        {
         "name": "AI_TipologiaEdiliziaAlternativaCoefficiente",
         "rawType": "float64",
         "type": "float"
        },
        {
         "name": "II_Id",
         "rawType": "object",
         "type": "string"
        },
        {
         "name": "II_CODREG",
         "rawType": "object",
         "type": "string"
        },
        {
         "name": "II_REGIONE",
         "rawType": "object",
         "type": "string"
        },
        {
         "name": "II_CODPRO",
         "rawType": "object",
         "type": "string"
        },
        {
         "name": "II_PROVINCIA",
         "rawType": "object",
         "type": "string"
        },
        {
         "name": "II_CODCOM",
         "rawType": "object",
         "type": "string"
        },
        {
         "name": "II_PROCOM",
         "rawType": "object",
         "type": "string"
        },
        {
         "name": "II_COM_ASC1",
         "rawType": "object",
         "type": "string"
        },
        {
         "name": "II_P1",
         "rawType": "float64",
         "type": "float"
        },
        {
         "name": "II_P2",
         "rawType": "float64",
         "type": "float"
        },
        {
         "name": "II_P3",
         "rawType": "float64",
         "type": "float"
        },
        {
         "name": "II_P14",
         "rawType": "float64",
         "type": "float"
        },
        {
         "name": "II_P15",
         "rawType": "float64",
         "type": "float"
        },
        {
         "name": "II_P16",
         "rawType": "float64",
         "type": "float"
        },
        {
         "name": "II_P17",
         "rawType": "float64",
         "type": "float"
        },
        {
         "name": "II_P18",
         "rawType": "float64",
         "type": "float"
        },
        {
         "name": "II_P19",
         "rawType": "float64",
         "type": "float"
        },
        {
         "name": "II_P20",
         "rawType": "float64",
         "type": "float"
        },
        {
         "name": "II_P21",
         "rawType": "float64",
         "type": "float"
        },
        {
         "name": "II_P22",
         "rawType": "float64",
         "type": "float"
        },
        {
         "name": "II_P23",
         "rawType": "float64",
         "type": "float"
        },
        {
         "name": "II_P24",
         "rawType": "float64",
         "type": "float"
        },
        {
         "name": "II_P25",
         "rawType": "float64",
         "type": "float"
        },
        {
         "name": "II_P26",
         "rawType": "float64",
         "type": "float"
        },
        {
         "name": "II_P27",
         "rawType": "float64",
         "type": "float"
        },
        {
         "name": "II_P28",
         "rawType": "float64",
         "type": "float"
        },
        {
         "name": "II_P29",
         "rawType": "float64",
         "type": "float"
        },
        {
         "name": "II_P30",
         "rawType": "float64",
         "type": "float"
        },
        {
         "name": "II_P31",
         "rawType": "float64",
         "type": "float"
        },
        {
         "name": "II_P32",
         "rawType": "float64",
         "type": "float"
        },
        {
         "name": "II_P33",
         "rawType": "float64",
         "type": "float"
        },
        {
         "name": "II_P34",
         "rawType": "float64",
         "type": "float"
        },
        {
         "name": "II_P35",
         "rawType": "float64",
         "type": "float"
        },
        {
         "name": "II_P36",
         "rawType": "float64",
         "type": "float"
        },
        {
         "name": "II_P37",
         "rawType": "float64",
         "type": "float"
        },
        {
         "name": "II_P38",
         "rawType": "float64",
         "type": "float"
        },
        {
         "name": "II_P39",
         "rawType": "float64",
         "type": "float"
        },
        {
         "name": "II_P40",
         "rawType": "float64",
         "type": "float"
        },
        {
         "name": "II_P41",
         "rawType": "float64",
         "type": "float"
        },
        {
         "name": "II_P42",
         "rawType": "float64",
         "type": "float"
        },
        {
         "name": "II_P43",
         "rawType": "float64",
         "type": "float"
        },
        {
         "name": "II_P44",
         "rawType": "float64",
         "type": "float"
        },
        {
         "name": "II_P45",
         "rawType": "float64",
         "type": "float"
        },
        {
         "name": "II_P67",
         "rawType": "float64",
         "type": "float"
        },
        {
         "name": "II_P68",
         "rawType": "float64",
         "type": "float"
        },
        {
         "name": "II_P69",
         "rawType": "float64",
         "type": "float"
        },
        {
         "name": "II_P70",
         "rawType": "float64",
         "type": "float"
        },
        {
         "name": "II_P71",
         "rawType": "float64",
         "type": "float"
        },
        {
         "name": "II_P72",
         "rawType": "float64",
         "type": "float"
        },
        {
         "name": "II_P73",
         "rawType": "float64",
         "type": "float"
        },
        {
         "name": "II_P74",
         "rawType": "float64",
         "type": "float"
        },
        {
         "name": "II_P75",
         "rawType": "float64",
         "type": "float"
        },
        {
         "name": "II_P76",
         "rawType": "float64",
         "type": "float"
        },
        {
         "name": "II_P77",
         "rawType": "float64",
         "type": "float"
        },
        {
         "name": "II_P78",
         "rawType": "float64",
         "type": "float"
        },
        {
         "name": "II_P79",
         "rawType": "float64",
         "type": "float"
        },
        {
         "name": "II_P80",
         "rawType": "float64",
         "type": "float"
        },
        {
         "name": "II_P81",
         "rawType": "float64",
         "type": "float"
        },
        {
         "name": "II_P82",
         "rawType": "float64",
         "type": "float"
        },
        {
         "name": "II_P83",
         "rawType": "float64",
         "type": "float"
        },
        {
         "name": "II_P84",
         "rawType": "float64",
         "type": "float"
        },
        {
         "name": "II_P85",
         "rawType": "float64",
         "type": "float"
        },
        {
         "name": "II_P86",
         "rawType": "float64",
         "type": "float"
        },
        {
         "name": "II_P87",
         "rawType": "float64",
         "type": "float"
        },
        {
         "name": "II_P88",
         "rawType": "float64",
         "type": "float"
        },
        {
         "name": "II_P89",
         "rawType": "float64",
         "type": "float"
        },
        {
         "name": "II_P90",
         "rawType": "float64",
         "type": "float"
        },
        {
         "name": "II_P91",
         "rawType": "float64",
         "type": "float"
        },
        {
         "name": "II_P92",
         "rawType": "float64",
         "type": "float"
        },
        {
         "name": "II_P93",
         "rawType": "float64",
         "type": "float"
        },
        {
         "name": "II_P94",
         "rawType": "float64",
         "type": "float"
        },
        {
         "name": "II_P95",
         "rawType": "float64",
         "type": "float"
        },
        {
         "name": "II_P96",
         "rawType": "float64",
         "type": "float"
        },
        {
         "name": "II_P97",
         "rawType": "float64",
         "type": "float"
        },
        {
         "name": "II_P98",
         "rawType": "float64",
         "type": "float"
        },
        {
         "name": "II_P99",
         "rawType": "float64",
         "type": "float"
        },
        {
         "name": "II_P100",
         "rawType": "float64",
         "type": "float"
        },
        {
         "name": "II_P101",
         "rawType": "float64",
         "type": "float"
        },
        {
         "name": "II_P102",
         "rawType": "float64",
         "type": "float"
        },
        {
         "name": "II_P103",
         "rawType": "float64",
         "type": "float"
        },
        {
         "name": "II_IT1",
         "rawType": "float64",
         "type": "float"
        },
        {
         "name": "II_IT2",
         "rawType": "float64",
         "type": "float"
        },
        {
         "name": "II_IT3",
         "rawType": "float64",
         "type": "float"
        },
        {
         "name": "II_IT4",
         "rawType": "float64",
         "type": "float"
        },
        {
         "name": "II_IT5",
         "rawType": "float64",
         "type": "float"
        },
        {
         "name": "II_IT6",
         "rawType": "float64",
         "type": "float"
        },
        {
         "name": "II_IT7",
         "rawType": "float64",
         "type": "float"
        },
        {
         "name": "II_IT8",
         "rawType": "float64",
         "type": "float"
        },
        {
         "name": "II_IT9",
         "rawType": "float64",
         "type": "float"
        },
        {
         "name": "II_IT10",
         "rawType": "float64",
         "type": "float"
        },
        {
         "name": "II_IT11",
         "rawType": "float64",
         "type": "float"
        },
        {
         "name": "II_IT12",
         "rawType": "float64",
         "type": "float"
        },
        {
         "name": "II_ST1",
         "rawType": "float64",
         "type": "float"
        },
        {
         "name": "II_ST2",
         "rawType": "float64",
         "type": "float"
        },
        {
         "name": "II_ST2_B",
         "rawType": "float64",
         "type": "float"
        },
        {
         "name": "II_ST3",
         "rawType": "float64",
         "type": "float"
        },
        {
         "name": "II_ST4",
         "rawType": "float64",
         "type": "float"
        },
        {
         "name": "II_ST5",
         "rawType": "float64",
         "type": "float"
        },
        {
         "name": "II_ST16",
         "rawType": "float64",
         "type": "float"
        },
        {
         "name": "II_ST17",
         "rawType": "float64",
         "type": "float"
        },
        {
         "name": "II_ST18",
         "rawType": "float64",
         "type": "float"
        },
        {
         "name": "II_ST19",
         "rawType": "float64",
         "type": "float"
        },
        {
         "name": "II_ST20",
         "rawType": "float64",
         "type": "float"
        },
        {
         "name": "II_ST21",
         "rawType": "float64",
         "type": "float"
        },
        {
         "name": "II_ST22",
         "rawType": "float64",
         "type": "float"
        },
        {
         "name": "II_ST23",
         "rawType": "float64",
         "type": "float"
        },
        {
         "name": "II_ST24",
         "rawType": "float64",
         "type": "float"
        },
        {
         "name": "II_ST25",
         "rawType": "float64",
         "type": "float"
        },
        {
         "name": "II_ST26",
         "rawType": "float64",
         "type": "float"
        },
        {
         "name": "II_ST27",
         "rawType": "float64",
         "type": "float"
        },
        {
         "name": "II_ST28",
         "rawType": "float64",
         "type": "float"
        },
        {
         "name": "II_ST29",
         "rawType": "float64",
         "type": "float"
        },
        {
         "name": "II_ST30",
         "rawType": "float64",
         "type": "float"
        },
        {
         "name": "II_ST31",
         "rawType": "float64",
         "type": "float"
        },
        {
         "name": "II_ST32",
         "rawType": "float64",
         "type": "float"
        },
        {
         "name": "II_ST33",
         "rawType": "float64",
         "type": "float"
        },
        {
         "name": "II_PF1",
         "rawType": "float64",
         "type": "float"
        },
        {
         "name": "II_PF3",
         "rawType": "float64",
         "type": "float"
        },
        {
         "name": "II_PF4",
         "rawType": "float64",
         "type": "float"
        },
        {
         "name": "II_PF5",
         "rawType": "float64",
         "type": "float"
        },
        {
         "name": "II_PF6",
         "rawType": "float64",
         "type": "float"
        },
        {
         "name": "II_PF7",
         "rawType": "float64",
         "type": "float"
        },
        {
         "name": "II_PF8",
         "rawType": "float64",
         "type": "float"
        },
        {
         "name": "II_A2",
         "rawType": "float64",
         "type": "float"
        },
        {
         "name": "II_A3",
         "rawType": "float64",
         "type": "float"
        },
        {
         "name": "II_A8",
         "rawType": "float64",
         "type": "float"
        },
        {
         "name": "II_E3",
         "rawType": "float64",
         "type": "float"
        },
        {
         "name": "ISC_Geometry",
         "rawType": "object",
         "type": "string"
        },
        {
         "name": "ISC_CodReg",
         "rawType": "int64",
         "type": "integer"
        },
        {
         "name": "ISC_CodUts",
         "rawType": "int64",
         "type": "integer"
        },
        {
         "name": "ISC_ProCom",
         "rawType": "int64",
         "type": "integer"
        },
        {
         "name": "ISC_Sez21",
         "rawType": "int64",
         "type": "integer"
        },
        {
         "name": "ISC_CodTipoS",
         "rawType": "int64",
         "type": "integer"
        },
        {
         "name": "ISC_TipoLoc",
         "rawType": "int64",
         "type": "integer"
        },
        {
         "name": "ISC_Loc21Id",
         "rawType": "int64",
         "type": "integer"
        },
        {
         "name": "ISC_CodZic",
         "rawType": "int64",
         "type": "integer"
        },
        {
         "name": "ISC_Pop21",
         "rawType": "int64",
         "type": "integer"
        },
        {
         "name": "ISC_Fam21",
         "rawType": "int64",
         "type": "integer"
        },
        {
         "name": "ISC_Abi21",
         "rawType": "int64",
         "type": "integer"
        },
        {
         "name": "ISC_Edi21",
         "rawType": "int64",
         "type": "integer"
        },
        {
         "name": "ISC_ShapeLeng",
         "rawType": "float64",
         "type": "float"
        },
        {
         "name": "ISC_ShapeArea",
         "rawType": "float64",
         "type": "float"
        },
        {
         "name": "OV_Id_normale",
         "rawType": "object",
         "type": "unknown"
        },
        {
         "name": "OV_Id_ottimo",
         "rawType": "object",
         "type": "unknown"
        },
        {
         "name": "OV_Id_scadente",
         "rawType": "object",
         "type": "unknown"
        },
        {
         "name": "OV_IdZona_normale",
         "rawType": "object",
         "type": "unknown"
        },
        {
         "name": "OV_IdZona_ottimo",
         "rawType": "object",
         "type": "unknown"
        },
        {
         "name": "OV_IdZona_scadente",
         "rawType": "object",
         "type": "unknown"
        },
        {
         "name": "OV_IdTipologiaEdilizia_normale",
         "rawType": "object",
         "type": "unknown"
        },
        {
         "name": "OV_IdTipologiaEdilizia_ottimo",
         "rawType": "object",
         "type": "unknown"
        },
        {
         "name": "OV_IdTipologiaEdilizia_scadente",
         "rawType": "object",
         "type": "unknown"
        },
        {
         "name": "OV_Stato_normale",
         "rawType": "object",
         "type": "unknown"
        },
        {
         "name": "OV_Stato_ottimo",
         "rawType": "object",
         "type": "unknown"
        },
        {
         "name": "OV_Stato_scadente",
         "rawType": "object",
         "type": "unknown"
        },
        {
         "name": "OV_ValoreMercatoMin_normale",
         "rawType": "float64",
         "type": "float"
        },
        {
         "name": "OV_ValoreMercatoMin_ottimo",
         "rawType": "float64",
         "type": "float"
        },
        {
         "name": "OV_ValoreMercatoMin_scadente",
         "rawType": "float64",
         "type": "float"
        },
        {
         "name": "OV_ValoreMercatoMax_normale",
         "rawType": "float64",
         "type": "float"
        },
        {
         "name": "OV_ValoreMercatoMax_ottimo",
         "rawType": "float64",
         "type": "float"
        },
        {
         "name": "OV_ValoreMercatoMax_scadente",
         "rawType": "float64",
         "type": "float"
        },
        {
         "name": "OV_ValoreMercatoSup_normale",
         "rawType": "object",
         "type": "unknown"
        },
        {
         "name": "OV_ValoreMercatoSup_ottimo",
         "rawType": "object",
         "type": "unknown"
        },
        {
         "name": "OV_ValoreMercatoSup_scadente",
         "rawType": "object",
         "type": "unknown"
        },
        {
         "name": "OV_ValoreLocazioneMin_normale",
         "rawType": "float64",
         "type": "float"
        },
        {
         "name": "OV_ValoreLocazioneMin_ottimo",
         "rawType": "float64",
         "type": "float"
        },
        {
         "name": "OV_ValoreLocazioneMin_scadente",
         "rawType": "float64",
         "type": "float"
        },
        {
         "name": "OV_ValoreLocazioneMax_normale",
         "rawType": "float64",
         "type": "float"
        },
        {
         "name": "OV_ValoreLocazioneMax_ottimo",
         "rawType": "float64",
         "type": "float"
        },
        {
         "name": "OV_ValoreLocazioneSup_normale",
         "rawType": "object",
         "type": "unknown"
        },
        {
         "name": "OV_ValoreLocazioneSup_ottimo",
         "rawType": "object",
         "type": "unknown"
        },
        {
         "name": "OZ_Id",
         "rawType": "object",
         "type": "string"
        },
        {
         "name": "OZ_LinkZona",
         "rawType": "object",
         "type": "string"
        },
        {
         "name": "OZ_Zona",
         "rawType": "object",
         "type": "string"
        },
        {
         "name": "OZ_IdAnnoSemestre",
         "rawType": "int64",
         "type": "integer"
        },
        {
         "name": "OZ_CodiceZona",
         "rawType": "object",
         "type": "string"
        },
        {
         "name": "PC_FoglioAgenzia",
         "rawType": "object",
         "type": "string"
        },
        {
         "name": "PC_ParticellaNumerica",
         "rawType": "int64",
         "type": "integer"
        },
        {
         "name": "PC_Sezione",
         "rawType": "object",
         "type": "string"
        },
        {
         "name": "PC_Area",
         "rawType": "float64",
         "type": "float"
        },
        {
         "name": "PC_Perimetro",
         "rawType": "float64",
         "type": "float"
        },
        {
         "name": "PC_Poligono",
         "rawType": "object",
         "type": "string"
        },
        {
         "name": "PC_PoligonoGeoJson",
         "rawType": "object",
         "type": "string"
        },
        {
         "name": "PC_PoligonoMetricoSrid",
         "rawType": "int64",
         "type": "integer"
        },
        {
         "name": "PC_PoligonoMetrico",
         "rawType": "object",
         "type": "string"
        },
        {
         "name": "PC_BoundingBox",
         "rawType": "object",
         "type": "string"
        },
        {
         "name": "PC_Isodistanza",
         "rawType": "object",
         "type": "string"
        },
        {
         "name": "PC_Centroide",
         "rawType": "object",
         "type": "string"
        },
        {
         "name": "PC_PuntoInterno",
         "rawType": "object",
         "type": "string"
        },
        {
         "name": "PC_IdQuartiere",
         "rawType": "int64",
         "type": "integer"
        },
        {
         "name": "POI_lodging_count",
         "rawType": "int64",
         "type": "integer"
        },
        {
         "name": "POI_tourist_attraction_count",
         "rawType": "int64",
         "type": "integer"
        },
        {
         "name": "POI_cafe_count",
         "rawType": "int64",
         "type": "integer"
        },
        {
         "name": "POI_shopping_mall_count",
         "rawType": "int64",
         "type": "integer"
        },
        {
         "name": "POI_pharmacy_count",
         "rawType": "int64",
         "type": "integer"
        },
        {
         "name": "POI_bus_station_count",
         "rawType": "int64",
         "type": "integer"
        },
        {
         "name": "POI_museum_count",
         "rawType": "int64",
         "type": "integer"
        },
        {
         "name": "POI_hospital_count",
         "rawType": "int64",
         "type": "integer"
        },
        {
         "name": "POI_gym_count",
         "rawType": "int64",
         "type": "integer"
        },
        {
         "name": "POI_park_count",
         "rawType": "int64",
         "type": "integer"
        },
        {
         "name": "POI_restaurant_count",
         "rawType": "int64",
         "type": "integer"
        },
        {
         "name": "POI_school_count",
         "rawType": "int64",
         "type": "integer"
        },
        {
         "name": "POI_gas_station_count",
         "rawType": "int64",
         "type": "integer"
        },
        {
         "name": "POI_transit_station_count",
         "rawType": "int64",
         "type": "integer"
        },
        {
         "name": "POI_supermarket_count",
         "rawType": "int64",
         "type": "integer"
        },
        {
         "name": "POI_university_count",
         "rawType": "int64",
         "type": "integer"
        },
        {
         "name": "InZTL",
         "rawType": "int64",
         "type": "integer"
        },
        {
         "name": "AI_Prezzo_Ridistribuito",
         "rawType": "float64",
         "type": "float"
        }
       ],
       "ref": "e1bd89bb-1582-42e4-8074-381aa2adbae7",
       "rows": [
        [
         "0",
         "2021",
         "12",
         "2021",
         "20211",
         "12210.0",
         "MN00",
         "Residenziale",
         "Residenziale singolo",
         "2",
         "1356428",
         "MN002021012210",
         "SUPERFICIE",
         "2",
         "1",
         "True",
         "53.0",
         "61.0",
         "False",
         "True",
         "True",
         "68a17a46-1d8a-43d4-8afb-758811f06af3",
         "PER",
         "00210",
         "6772312",
         "E897",
         null,
         "59",
         "64",
         "317",
         "C4",
         "VIALE MONTE GRAPPA",
         "14",
         "45.149932861328125",
         "10.783458709716797",
         "1",
         "POINT (10.7835 45.1499)",
         "S1",
         "15.49",
         "12.0",
         "mq",
         "12.0",
         "8",
         "64",
         "40825244",
         "True",
         null,
         "True",
         null,
         "12.0",
         null,
         "12.0",
         "12.0",
         "12.0",
         "2",
         "0.25",
         "200300000198",
         "3",
         "Lombardia",
         "20",
         "Mantova",
         "030",
         "20030",
         "0",
         "109.0",
         "52.0",
         "57.0",
         "6.0",
         "7.0",
         "5.0",
         "2.0",
         "4.0",
         "1.0",
         "7.0",
         "12.0",
         "11.0",
         "2.0",
         "3.0",
         "1.0",
         "10.0",
         "8.0",
         "7.0",
         "23.0",
         "2.0",
         "4.0",
         "3.0",
         "0.0",
         "4.0",
         "1.0",
         "3.0",
         "5.0",
         "6.0",
         "1.0",
         "0.0",
         "0.0",
         "4.0",
         "4.0",
         "4.0",
         "11.0",
         "4.0",
         "3.0",
         "2.0",
         "2.0",
         "0.0",
         "0.0",
         "4.0",
         "7.0",
         "5.0",
         "1.0",
         "3.0",
         "1.0",
         "6.0",
         "4.0",
         "3.0",
         "12.0",
         "100.0",
         "49.0",
         "51.0",
         "6.0",
         "10.0",
         "18.0",
         "39.0",
         "27.0",
         "4.0",
         "5.0",
         "8.0",
         "21.0",
         "11.0",
         "2.0",
         "5.0",
         "10.0",
         "18.0",
         "16.0",
         "40.0",
         "18.0",
         "22.0",
         "13.0",
         "42.0",
         "38.0",
         "8.0",
         "17.0",
         "19.0",
         "5.0",
         "25.0",
         "19.0",
         "32.0",
         "13.0",
         "19.0",
         "16.0",
         "8.0",
         "8.0",
         "9.0",
         "6.0",
         "1.0",
         "0.0",
         "0.0",
         "0.0",
         "16.0",
         "8.0",
         "8.0",
         "5.0",
         "11.0",
         "0.0",
         "1.0",
         "7.0",
         "0.0",
         "4.0",
         "4.0",
         "0.0",
         "8.0",
         "5.0",
         "3.0",
         "52.0",
         "18.0",
         "19.0",
         "9.0",
         "5.0",
         "0.0",
         "1.0",
         "50.0",
         "13.0",
         "63.0",
         "15.0",
         "MULTIPOLYGON (((10.783887942194134 45.150017769836687, 10.783915607638837 45.149583863996654, 10.783923517694777 45.148883191527005, 10.783754215369326 45.148316913434556, 10.783524182838937 45.148388105386942, 10.783442395482561 45.148461417348457, 10.783083034625776 45.14947279999155, 10.782904496994179 45.150013058437224, 10.782715172015145 45.150575540070811, 10.782831357836077 45.150429622068437, 10.782960347351027 45.150331928675705, 10.783058972830702 45.150275654498486, 10.783223594929728 45.150211158018259, 10.78340592289908 45.150147179583, 10.783887942194134 45.150017769836687)))",
         "3",
         "20",
         "20030",
         "198",
         "1",
         "1",
         "2003010005",
         "0",
         "109",
         "52",
         "63",
         "15",
         "577.102281765",
         "11747.5895737",
         null,
         null,
         null,
         null,
         null,
         null,
         null,
         null,
         null,
         null,
         null,
         null,
         "175.0",
         "287.5",
         null,
         "262.5",
         "425.0",
         null,
         null,
         null,
         null,
         null,
         null,
         null,
         null,
         null,
         null,
         null,
         "20FAA282-A521-42BA-83CA-6D87C3FBFD97",
         "MN00001195",
         "C4/Semicentrale/VALLETTA PAIOLO",
         "20211",
         "C4",
         "0059",
         "64",
         "_",
         "2135.02446538906",
         "199.187082574095",
         "MULTIPOLYGON (((10.78310745 45.14986221, 10.78313591 45.14977421, 10.78320911 45.14978586, 10.78338553 45.14981394, 10.78344681 45.14978105, 10.78348738 45.14965457, 10.78374149 45.14968565, 10.78381631 45.14969479, 10.78384137 45.14969785, 10.78383349 45.14996652, 10.78341345 45.15008873, 10.78333128 45.15011259, 10.78330882 45.15011912, 10.78303819 45.15007221, 10.78310745 45.14986221)))",
         "{\"type\": \"FeatureCollection\", \"features\": [{\"type\": \"Feature\", \"geometry\": {\"crs\": {\"type\": \"name\", \"properties\": {\"name\": \"EPSG:6706\"}}, \"type\": \"Polygon\", \"coordinates\": [[[10.78310745, 45.14986221], [10.78313591, 45.14977421], [10.78320911, 45.14978586], [10.78338553, 45.14981394], [10.78344681, 45.14978105], [10.78348738, 45.14965457], [10.78374149, 45.14968565], [10.78381631, 45.14969479], [10.78384137, 45.14969785], [10.78383349, 45.14996652], [10.78341345, 45.15008873], [10.78333128, 45.15011259], [10.78330882, 45.15011912], [10.78303819, 45.15007221], [10.78310745, 45.14986221]]]}, \"properties\": {\"areaMq\": 2135.024465389065, \"foglio\": \"0059\", \"sezione\": \"_\", \"particella\": \"64\", \"perimetroM\": 199.18708257409503, \"codiceCatastale\": \"E897\"}}]}",
         "6707",
         "POLYGON ((640169.22433195356 5001144.9682143871, 640171.67731978372 5001135.2416675324, 640177.40297317225 5001136.6628699685, 640191.20240846172 5001140.0883919783, 640196.10025372868 5001136.5409768764, 640199.59961437841 5001122.5607093964, 640219.49889821722 5001126.4543830138, 640225.358054993 5001127.5996043235, 640227.320507286 5001127.9830354517, 640226.0420641636 5001157.815921207, 640192.72333250346 5001170.66327438, 640186.20551367465 5001173.1713005016, 640184.42394147 5001173.8577467846, 640163.26497967436 5001168.1769640017, 640169.22433195356 5001144.9682143871))",
         "POLYGON ((10.78303819 45.14965457, 10.78303819 45.15011912, 10.78384137 45.15011912, 10.78384137 45.14965457, 10.78303819 45.14965457))",
         "POLYGON ((10.783464 45.153494, 10.781464 45.153831, 10.780849 45.152897, 10.779826 45.152535, 10.778665 45.150897, 10.778931 45.149897, 10.778105 45.148897, 10.779179 45.148613, 10.779464 45.147825, 10.782841 45.147274, 10.783446 45.14588, 10.788464 45.147297, 10.78985 45.148897, 10.788464 45.150947, 10.785709 45.151143, 10.785464 45.152341, 10.783464 45.153494))",
         "POINT (10.783463739332115 45.149897493499616)",
         "POINT (10.783462634236376 45.149914365)",
         "8",
         "6",
         "3",
         "7",
         "0",
         "1",
         "0",
         "6",
         "1",
         "2",
         "1",
         "13",
         "2",
         "0",
         "23",
         "1",
         "1",
         "0",
         "2175.5725190839694"
        ],
        [
         "1",
         "2021",
         "12",
         "2021",
         "20211",
         "12210.0",
         "MN00",
         "Residenziale",
         "Residenziale singolo",
         "2",
         "1356428",
         "MN002021012210",
         "SUPERFICIE",
         "2",
         "1",
         "True",
         "53.0",
         "61.0",
         "False",
         "True",
         "True",
         "9bc1f44c-8303-413d-8fff-3b6ff54a4d75",
         "RES",
         "00020",
         "6772423",
         "E897",
         null,
         "59",
         "64",
         "316",
         "C4",
         "VIALE MONTE GRAPPA",
         "14",
         "45.149932861328125",
         "10.783458709716797",
         "1",
         "POINT (10.7835 45.1499)",
         "2",
         "923.17",
         "128.0",
         "mq",
         "128.0",
         "2",
         "64",
         "40825244",
         "True",
         null,
         "True",
         null,
         "128.0",
         "120.0",
         "126.0",
         "118.0",
         "128.0",
         null,
         null,
         "200300000198",
         "3",
         "Lombardia",
         "20",
         "Mantova",
         "030",
         "20030",
         "0",
         "109.0",
         "52.0",
         "57.0",
         "6.0",
         "7.0",
         "5.0",
         "2.0",
         "4.0",
         "1.0",
         "7.0",
         "12.0",
         "11.0",
         "2.0",
         "3.0",
         "1.0",
         "10.0",
         "8.0",
         "7.0",
         "23.0",
         "2.0",
         "4.0",
         "3.0",
         "0.0",
         "4.0",
         "1.0",
         "3.0",
         "5.0",
         "6.0",
         "1.0",
         "0.0",
         "0.0",
         "4.0",
         "4.0",
         "4.0",
         "11.0",
         "4.0",
         "3.0",
         "2.0",
         "2.0",
         "0.0",
         "0.0",
         "4.0",
         "7.0",
         "5.0",
         "1.0",
         "3.0",
         "1.0",
         "6.0",
         "4.0",
         "3.0",
         "12.0",
         "100.0",
         "49.0",
         "51.0",
         "6.0",
         "10.0",
         "18.0",
         "39.0",
         "27.0",
         "4.0",
         "5.0",
         "8.0",
         "21.0",
         "11.0",
         "2.0",
         "5.0",
         "10.0",
         "18.0",
         "16.0",
         "40.0",
         "18.0",
         "22.0",
         "13.0",
         "42.0",
         "38.0",
         "8.0",
         "17.0",
         "19.0",
         "5.0",
         "25.0",
         "19.0",
         "32.0",
         "13.0",
         "19.0",
         "16.0",
         "8.0",
         "8.0",
         "9.0",
         "6.0",
         "1.0",
         "0.0",
         "0.0",
         "0.0",
         "16.0",
         "8.0",
         "8.0",
         "5.0",
         "11.0",
         "0.0",
         "1.0",
         "7.0",
         "0.0",
         "4.0",
         "4.0",
         "0.0",
         "8.0",
         "5.0",
         "3.0",
         "52.0",
         "18.0",
         "19.0",
         "9.0",
         "5.0",
         "0.0",
         "1.0",
         "50.0",
         "13.0",
         "63.0",
         "15.0",
         "MULTIPOLYGON (((10.783887942194134 45.150017769836687, 10.783915607638837 45.149583863996654, 10.783923517694777 45.148883191527005, 10.783754215369326 45.148316913434556, 10.783524182838937 45.148388105386942, 10.783442395482561 45.148461417348457, 10.783083034625776 45.14947279999155, 10.782904496994179 45.150013058437224, 10.782715172015145 45.150575540070811, 10.782831357836077 45.150429622068437, 10.782960347351027 45.150331928675705, 10.783058972830702 45.150275654498486, 10.783223594929728 45.150211158018259, 10.78340592289908 45.150147179583, 10.783887942194134 45.150017769836687)))",
         "3",
         "20",
         "20030",
         "198",
         "1",
         "1",
         "2003010005",
         "0",
         "109",
         "52",
         "63",
         "15",
         "577.102281765",
         "11747.5895737",
         "9ecfc8e1-6b4e-445f-8717-e79f2041f7c5",
         "ec2df054-2e2b-4bfd-ada3-9c02f68c8d7b",
         null,
         "20FAA282-A521-42BA-83CA-6D87C3FBFD97",
         "20FAA282-A521-42BA-83CA-6D87C3FBFD97",
         null,
         "2",
         "2",
         null,
         "Normale",
         "Ottimo",
         null,
         "700.0",
         "1150.0",
         null,
         "1050.0",
         "1700.0",
         null,
         "L",
         "L",
         null,
         "4.9",
         "5.5",
         null,
         "7.3",
         "7.5",
         "N",
         "N",
         "20FAA282-A521-42BA-83CA-6D87C3FBFD97",
         "MN00001195",
         "C4/Semicentrale/VALLETTA PAIOLO",
         "20211",
         "C4",
         "0059",
         "64",
         "_",
         "2135.02446538906",
         "199.187082574095",
         "MULTIPOLYGON (((10.78310745 45.14986221, 10.78313591 45.14977421, 10.78320911 45.14978586, 10.78338553 45.14981394, 10.78344681 45.14978105, 10.78348738 45.14965457, 10.78374149 45.14968565, 10.78381631 45.14969479, 10.78384137 45.14969785, 10.78383349 45.14996652, 10.78341345 45.15008873, 10.78333128 45.15011259, 10.78330882 45.15011912, 10.78303819 45.15007221, 10.78310745 45.14986221)))",
         "{\"type\": \"FeatureCollection\", \"features\": [{\"type\": \"Feature\", \"geometry\": {\"crs\": {\"type\": \"name\", \"properties\": {\"name\": \"EPSG:6706\"}}, \"type\": \"Polygon\", \"coordinates\": [[[10.78310745, 45.14986221], [10.78313591, 45.14977421], [10.78320911, 45.14978586], [10.78338553, 45.14981394], [10.78344681, 45.14978105], [10.78348738, 45.14965457], [10.78374149, 45.14968565], [10.78381631, 45.14969479], [10.78384137, 45.14969785], [10.78383349, 45.14996652], [10.78341345, 45.15008873], [10.78333128, 45.15011259], [10.78330882, 45.15011912], [10.78303819, 45.15007221], [10.78310745, 45.14986221]]]}, \"properties\": {\"areaMq\": 2135.024465389065, \"foglio\": \"0059\", \"sezione\": \"_\", \"particella\": \"64\", \"perimetroM\": 199.18708257409503, \"codiceCatastale\": \"E897\"}}]}",
         "6707",
         "POLYGON ((640169.22433195356 5001144.9682143871, 640171.67731978372 5001135.2416675324, 640177.40297317225 5001136.6628699685, 640191.20240846172 5001140.0883919783, 640196.10025372868 5001136.5409768764, 640199.59961437841 5001122.5607093964, 640219.49889821722 5001126.4543830138, 640225.358054993 5001127.5996043235, 640227.320507286 5001127.9830354517, 640226.0420641636 5001157.815921207, 640192.72333250346 5001170.66327438, 640186.20551367465 5001173.1713005016, 640184.42394147 5001173.8577467846, 640163.26497967436 5001168.1769640017, 640169.22433195356 5001144.9682143871))",
         "POLYGON ((10.78303819 45.14965457, 10.78303819 45.15011912, 10.78384137 45.15011912, 10.78384137 45.14965457, 10.78303819 45.14965457))",
         "POLYGON ((10.783464 45.153494, 10.781464 45.153831, 10.780849 45.152897, 10.779826 45.152535, 10.778665 45.150897, 10.778931 45.149897, 10.778105 45.148897, 10.779179 45.148613, 10.779464 45.147825, 10.782841 45.147274, 10.783446 45.14588, 10.788464 45.147297, 10.78985 45.148897, 10.788464 45.150947, 10.785709 45.151143, 10.785464 45.152341, 10.783464 45.153494))",
         "POINT (10.783463739332115 45.149897493499616)",
         "POINT (10.783462634236376 45.149914365)",
         "8",
         "6",
         "3",
         "7",
         "0",
         "1",
         "0",
         "6",
         "1",
         "2",
         "1",
         "13",
         "2",
         "0",
         "23",
         "1",
         "1",
         "0",
         "92824.42748091603"
        ],
        [
         "2",
         "2023",
         "9",
         "2023",
         "20231",
         null,
         "MN00",
         "Pertinenze",
         "Pertinenze",
         "1",
         "2438036",
         null,
         "SUPERFICIE",
         "0",
         "0",
         "False",
         null,
         null,
         "False",
         null,
         "True",
         "b87ef2d8-49a0-4d13-9414-3259ba9f3414",
         "PER",
         "00275",
         "8564724",
         "E897",
         null,
         "48",
         "305",
         null,
         "D2",
         "Viale Europa",
         null,
         "45.1503481",
         "10.7645318",
         "1",
         "POINT (10.7645318 45.1503481)",
         null,
         null,
         "18.0",
         "mq",
         "18.0",
         "18",
         "305",
         "40817840",
         "False",
         null,
         "False",
         null,
         null,
         null,
         null,
         null,
         "18.0",
         null,
         null,
         "200300000279",
         "3",
         "Lombardia",
         "20",
         "Mantova",
         "030",
         "20030",
         "0",
         "838.0",
         "396.0",
         "442.0",
         "34.0",
         "36.0",
         "43.0",
         "22.0",
         "25.0",
         "48.0",
         "41.0",
         "56.0",
         "64.0",
         "90.0",
         "83.0",
         "91.0",
         "44.0",
         "41.0",
         "49.0",
         "71.0",
         "13.0",
         "19.0",
         "20.0",
         "10.0",
         "16.0",
         "24.0",
         "17.0",
         "28.0",
         "31.0",
         "38.0",
         "46.0",
         "45.0",
         "24.0",
         "18.0",
         "18.0",
         "29.0",
         "21.0",
         "17.0",
         "23.0",
         "12.0",
         "9.0",
         "24.0",
         "24.0",
         "28.0",
         "33.0",
         "52.0",
         "37.0",
         "46.0",
         "20.0",
         "23.0",
         "31.0",
         "42.0",
         "779.0",
         "371.0",
         "408.0",
         "30.0",
         "99.0",
         "158.0",
         "305.0",
         "187.0",
         "16.0",
         "39.0",
         "84.0",
         "151.0",
         "81.0",
         "14.0",
         "60.0",
         "74.0",
         "154.0",
         "106.0",
         "415.0",
         "217.0",
         "198.0",
         "94.0",
         "504.0",
         "153.0",
         "46.0",
         "254.0",
         "62.0",
         "48.0",
         "250.0",
         "91.0",
         "384.0",
         "200.0",
         "184.0",
         "87.0",
         "34.0",
         "53.0",
         "32.0",
         "40.0",
         "15.0",
         "17.0",
         "8.0",
         "9.0",
         "70.0",
         "26.0",
         "44.0",
         "19.0",
         "60.0",
         "8.0",
         "6.0",
         "25.0",
         "3.0",
         "13.0",
         "35.0",
         "5.0",
         "31.0",
         "17.0",
         "14.0",
         "417.0",
         "175.0",
         "121.0",
         "81.0",
         "30.0",
         "8.0",
         "2.0",
         "413.0",
         "51.0",
         "464.0",
         "78.0",
         "MULTIPOLYGON (((10.767331549979215 45.151153242654068, 10.767278350264982 45.151120279138489, 10.768231265055366 45.15045713505377, 10.767949033986898 45.150013326046675, 10.767779607274267 45.149746903750028, 10.767617953538377 45.149513563646423, 10.767410930412813 45.149289109984373, 10.767320160593517 45.149204735997863, 10.767255346043553 45.149157660238892, 10.766737374722343 45.148816720862946, 10.765421045063169 45.1501418391579, 10.765673537018859 45.150292734339537, 10.766100080338211 45.150003936374716, 10.766413521102352 45.150199969551174, 10.766133577717902 45.150429017958508, 10.766644258622842 45.150757411898212, 10.765944490022351 45.151256392696048, 10.765190931822923 45.150833632340479, 10.765510469581752 45.150556142546783, 10.764908238420714 45.150222134718256, 10.763999037152857 45.149702933523145, 10.763127838134142 45.149232472055893, 10.763428037388401 45.148991433912, 10.763577236845293 45.148982634683222, 10.763711037757762 45.149043034310239, 10.763764137274153 45.149148833860188, 10.76375163687346 45.149205134606476, 10.763655437738542 45.149294434095189, 10.764143674554632 45.149583544261361, 10.764307536337521 45.149466288205836, 10.764207652098202 45.149409648221472, 10.764802252084248 45.148897547982905, 10.765698362584825 45.148179750589804, 10.765328246356113 45.147928695592086, 10.765133488470157 45.147767705487212, 10.764967746229084 45.14760733591163, 10.764681832070215 45.147271922843082, 10.764583307238832 45.147100614578058, 10.76449036839934 45.146938286417942, 10.764355672488533 45.1467438795489, 10.763340947189192 45.145565836172146, 10.76311680211678 45.145295041652254, 10.762146435293847 45.14607274456511, 10.761971821810944 45.146231881936615, 10.761462650324205 45.146620246233866, 10.76100099281595 45.146972378052588, 10.761753171760368 45.147387618074305, 10.761507128563025 45.147620626687143, 10.761379549771865 45.147734965971459, 10.762111082133616 45.148174646679664, 10.761618430043981 45.1486122902938, 10.761508443898711 45.148693610948996, 10.760547386026319 45.149628215285425, 10.760858012203135 45.149764819357422, 10.761065683528139 45.149849912279215, 10.761431230230079 45.149999921859, 10.76312106740439 45.150695496957368, 10.763176163631341 45.150695092610981, 10.763242849368693 45.150699568214584, 10.76334551365937 45.15072302001839, 10.763436062234879 45.150760369356107, 10.763538893296138 45.150824644741654, 10.7635872835474 45.150884754217628, 10.765340155332515 45.151603488653791, 10.765989394452054 45.151876826502715, 10.76617748782826 45.151956044947831, 10.767076598320301 45.151063708841086, 10.767331549979215 45.151153242654068)))",
         "3",
         "20",
         "20030",
         "279",
         "1",
         "1",
         "2003010005",
         "0",
         "838",
         "417",
         "464",
         "78",
         "3178.32180066",
         "177693.4543",
         "9b7a508d-dad8-4e6f-ad55-78891c586cdb",
         null,
         null,
         "DDD3CFA6-7759-4417-B158-7FBF27215BCB",
         null,
         null,
         "18",
         null,
         null,
         "Normale",
         null,
         null,
         "700.0",
         null,
         null,
         "950.0",
         null,
         null,
         "L",
         null,
         null,
         "3.0",
         null,
         null,
         "4.5",
         null,
         "L",
         null,
         "DDD3CFA6-7759-4417-B158-7FBF27215BCB",
         "MN00000573",
         "D2/Periferica/ANGELI, DOSSO DEL CORSO, BORGO CHIESA NUOVA",
         "20231",
         "D2",
         "0048",
         "305",
         "_",
         "1919.80938942805",
         "403.592416039621",
         "MULTIPOLYGON (((10.763915859999999 45.15067663, 10.76388413 45.15065865, 10.76393121 45.15061631, 10.76392928 45.1506152, 10.76400429 45.1505477, 10.76400624 45.1505488, 10.76405101 45.15050879, 10.76404906 45.1505077, 10.764193969999999 45.15038099, 10.76419591 45.15038208, 10.76424129 45.15034245, 10.76423935 45.15034136, 10.76431554 45.15027454, 10.76431747 45.15027564, 10.76436521 45.15023363, 10.76442618 45.15026817, 10.76442772 45.1502668, 10.76451385 45.15031555, 10.76458275 45.1502547, 10.76458471 45.15025579, 10.76463348 45.15021266, 10.76469297 45.15024636, 10.76469451 45.15024499, 10.76478916 45.15029872, 10.7647876 45.15030009, 10.76484308 45.15033173, 10.76484461 45.15033037, 10.76502441 45.1504341, 10.76502288 45.15043547, 10.765079 45.15046664, 10.76508052 45.15046528, 10.76517636 45.15051791, 10.76517484 45.15051927, 10.76523447 45.1505527, 10.76518256 45.15059841, 10.76516292 45.15058733, 10.76509524 45.15064688, 10.76511489 45.15065799, 10.76506279 45.15070385, 10.76499817 45.15066727, 10.76501397 45.15065335, 10.76498382 45.15063632, 10.76495921 45.15062358, 10.76492983 45.15060585, 10.76491408 45.15061975, 10.76484944 45.15058315, 10.76490112 45.1505375, 10.7649208 45.15054862, 10.76498765 45.15048959, 10.76496796 45.15047849, 10.76491954 45.15045018, 10.76490538 45.15046269, 10.76489553 45.150457, 10.76484036 45.15042515, 10.76483053 45.15041946, 10.76484471 45.15040693, 10.76477657 45.15036876, 10.76470943 45.15042824, 10.76472819 45.15043886, 10.76467628 45.15048473, 10.76461156 45.15044808, 10.76462733 45.15043417, 10.7645971 45.15041711, 10.76454299 45.15038657, 10.76452721 45.15040049, 10.76450749 45.15038935, 10.76446412 45.15042747, 10.76443986 45.15044878, 10.76445959 45.15045993, 10.76440763 45.15050566, 10.76434257 45.15046883, 10.76435837 45.15045498, 10.76427393 45.15040716, 10.76418762 45.15048186, 10.76410289 45.15055734, 10.76418779 45.15060544, 10.76420347 45.15059149, 10.76426874 45.15062846, 10.76421702 45.15067431, 10.76419724 45.15066312, 10.76417447 45.15068371, 10.76415518 45.15070052, 10.76413054 45.15072271, 10.76414983 45.15073399, 10.76410041 45.15077788, 10.76406645 45.15076191, 10.7640649 45.15076328, 10.76402492 45.15074064, 10.76397253 45.15071143, 10.76391433 45.15067799, 10.763915859999999 45.15067663)))",
         "{\"type\": \"FeatureCollection\", \"features\": [{\"type\": \"Feature\", \"geometry\": {\"crs\": {\"type\": \"name\", \"properties\": {\"name\": \"EPSG:6706\"}}, \"type\": \"Polygon\", \"coordinates\": [[[10.76391586, 45.15067663], [10.76388413, 45.15065865], [10.76393121, 45.15061631], [10.76392928, 45.1506152], [10.76400429, 45.1505477], [10.76400624, 45.1505488], [10.76405101, 45.15050879], [10.76404906, 45.1505077], [10.76419397, 45.15038099], [10.76419591, 45.15038208], [10.76424129, 45.15034245], [10.76423935, 45.15034136], [10.76431554, 45.15027454], [10.76431747, 45.15027564], [10.76436521, 45.15023363], [10.76442618, 45.15026817], [10.76442772, 45.1502668], [10.76451385, 45.15031555], [10.76458275, 45.1502547], [10.76458471, 45.15025579], [10.76463348, 45.15021266], [10.76469297, 45.15024636], [10.76469451, 45.15024499], [10.76478916, 45.15029872], [10.7647876, 45.15030009], [10.76484308, 45.15033173], [10.76484461, 45.15033037], [10.76502441, 45.1504341], [10.76502288, 45.15043547], [10.765079, 45.15046664], [10.76508052, 45.15046528], [10.76517636, 45.15051791], [10.76517484, 45.15051927], [10.76523447, 45.1505527], [10.76518256, 45.15059841], [10.76516292, 45.15058733], [10.76509524, 45.15064688], [10.76511489, 45.15065799], [10.76506279, 45.15070385], [10.76499817, 45.15066727], [10.76501397, 45.15065335], [10.76498382, 45.15063632], [10.76495921, 45.15062358], [10.76492983, 45.15060585], [10.76491408, 45.15061975], [10.76484944, 45.15058315], [10.76490112, 45.1505375], [10.7649208, 45.15054862], [10.76498765, 45.15048959], [10.76496796, 45.15047849], [10.76491954, 45.15045018], [10.76490538, 45.15046269], [10.76489553, 45.150457], [10.76484036, 45.15042515], [10.76483053, 45.15041946], [10.76484471, 45.15040693], [10.76477657, 45.15036876], [10.76470943, 45.15042824], [10.76472819, 45.15043886], [10.76467628, 45.15048473], [10.76461156, 45.15044808], [10.76462733, 45.15043417], [10.7645971, 45.15041711], [10.76454299, 45.15038657], [10.76452721, 45.15040049], [10.76450749, 45.15038935], [10.76446412, 45.15042747], [10.76443986, 45.15044878], [10.76445959, 45.15045993], [10.76440763, 45.15050566], [10.76434257, 45.15046883], [10.76435837, 45.15045498], [10.76427393, 45.15040716], [10.76418762, 45.15048186], [10.76410289, 45.15055734], [10.76418779, 45.15060544], [10.76420347, 45.15059149], [10.76426874, 45.15062846], [10.76421702, 45.15067431], [10.76419724, 45.15066312], [10.76417447, 45.15068371], [10.76415518, 45.15070052], [10.76413054, 45.15072271], [10.76414983, 45.15073399], [10.76410041, 45.15077788], [10.76406645, 45.15076191], [10.7640649, 45.15076328], [10.76402492, 45.15074064], [10.76397253, 45.15071143], [10.76391433, 45.15067799], [10.76391586, 45.15067663]]]}, \"properties\": {\"areaMq\": 1919.8093894280494, \"foglio\": \"0048\", \"sezione\": \"_\", \"particella\": \"305\", \"perimetroM\": 403.5924160396211, \"codiceCatastale\": \"E897\"}}]}",
         "6707",
         "POLYGON ((638658.609141663 5001202.3249201179, 638656.15850890393 5001200.2730639568, 638659.96208357054 5001195.6503122132, 638659.81306164619 5001195.523689812, 638665.87320295861 5001188.1538516115, 638666.02382137591 5001188.2793975808, 638669.64017262636 5001183.9115264751, 638669.4895299112 5001183.7870913232, 638681.188069453 5001169.9596033115, 638681.33792620932 5001170.0840215711, 638685.00132739777 5001165.7594201947, 638684.85147060186 5001165.6350018512, 638691.00277697074 5001158.3427535314, 638691.15182348527 5001158.4682657514, 638695.00652880245 5001153.8833269123, 638699.71551572334 5001157.8250470366, 638699.8398971901 5001157.6754974769, 638706.49219916982 5001163.2390067847, 638712.05598924414 5001156.59747014, 638712.20741793793 5001156.7219234677, 638716.14582476881 5001152.014344682, 638720.74049782113 5001155.8602238633, 638720.8648798354 5001155.7106747059, 638728.17482915823 5001161.8420646936, 638728.04887489974 5001161.9915793668, 638732.33331134822 5001165.6017361293, 638732.45688311476 5001165.4532809239, 638746.33899336483 5001177.2854166878, 638746.21539720474 5001177.434982527, 638750.5512631028 5001180.99403888, 638750.67404894845 5001180.8455668492, 638758.08015457634 5001186.8568373565, 638757.95736865827 5001187.0053092474, 638762.56365161412 5001190.8214660995, 638758.37213873491 5001195.8102360079, 638756.85516244825 5001194.5456265081, 638751.39041185542 5001201.0448027533, 638752.90810080711 5001202.3127608467, 638748.70130313735 5001207.3178740907, 638743.71041426668 5001203.1432239516, 638744.98620901408 5001201.6239840789, 638742.65749803442 5001199.6803429173, 638740.753864752 5001198.2227927791, 638738.48737849272 5001196.2027124772, 638737.21556330787 5001197.7198176943, 638732.22313570848 5001193.5429208167, 638736.39640313748 5001188.5604045214, 638737.9164320525 5001189.8295212993, 638743.31467014994 5001183.386675125, 638741.79380600806 5001182.1197617054, 638738.05628195638 5001178.89165177, 638736.91282461607 5001180.2570723183, 638736.15233832935 5001179.6080551585, 638731.89279218763 5001175.9750989033, 638731.13387704687 5001175.3261167146, 638732.27895462641 5001173.9585076841, 638727.01518352237 5001169.601194025, 638721.59306330793 5001176.0935464008, 638723.04199150333 5001177.3055347558, 638718.850114313 5001182.3121045725, 638713.85149514768 5001178.1295308843, 638715.12490460323 5001176.6113445088, 638712.789959409 5001174.6642447058, 638708.61054387968 5001171.178652375, 638707.33632468351 5001172.6979337642, 638705.81318984111 5001171.4265340809, 638702.31144392444 5001175.5868285075, 638700.352696579 5001177.9125083433, 638701.8765926417 5001179.1850348087, 638697.68114309444 5001184.1759797763, 638692.65622203914 5001179.9728431152, 638693.931838605 5001178.46136951, 638687.41013555659 5001173.004087965, 638680.444212219 5001181.1543578412, 638673.60061572213 5001189.3939973172, 638680.15779290942 5001194.8831597511, 638681.42421321024 5001193.3603687361, 638686.46529827139 5001197.5794097632, 638682.28844734258 5001202.5841073068, 638680.76072009618 5001201.3070560284, 638678.92086116923 5001203.5553150317, 638677.3637297427 5001205.3896275181, 638675.37299452967 5001207.8124217531, 638676.86198480148 5001209.09862878, 638672.87070184608 5001213.8895437019, 638670.23990630265 5001212.0571452323, 638670.11474045529 5001212.2066781819, 638667.02690079564 5001209.622977538, 638662.97946597764 5001206.2881170427, 638658.48557234323 5001202.4733767137, 638658.609141663 5001202.3249201179))",
         "POLYGON ((10.76388413 45.15021266, 10.76388413 45.15077788, 10.76523447 45.15077788, 10.76523447 45.15021266, 10.76388413 45.15021266))",
         "POLYGON ((10.765534 45.153516, 10.765289 45.152721, 10.760534 45.152484, 10.760519 45.15149, 10.758392 45.150475, 10.758534 45.149074, 10.759847 45.148475, 10.760534 45.147073, 10.761534 45.146934, 10.761776 45.148233, 10.764534 45.147827, 10.765534 45.148604, 10.766534 45.148269, 10.769461 45.149475, 10.768796 45.150738, 10.767563 45.151475, 10.76851 45.152475, 10.768008 45.152949, 10.765534 45.153516))",
         "POINT (10.764533817052056 45.150475470051475)",
         "POINT (10.765058985640749 45.150497625)",
         "13",
         "0",
         "0",
         "2",
         "0",
         "1",
         "0",
         "0",
         "0",
         "3",
         "0",
         "3",
         "0",
         "1",
         "15",
         "1",
         "2",
         "0",
         "25000.0"
        ],
        [
         "3",
         "2021",
         "9",
         "2021",
         "20211",
         "8205.0",
         "MN00",
         "Residenziale",
         "Residenziale singolo",
         "2",
         "1238404",
         "MN002021008205",
         "SUPERFICIE",
         "1",
         "1",
         "True",
         "57.0",
         "31.0",
         "False",
         "False",
         "True",
         "334919bc-739f-419a-98f3-b2876ada25d4",
         "RES",
         "00020",
         "6586006",
         "E897",
         null,
         "50",
         "158",
         "3",
         "C5",
         "VIA GIANBATTISTA INTRA",
         "10",
         "45.150455474853516",
         "10.770710945129395",
         "1",
         "POINT (10.7707 45.1505)",
         "1",
         "309.87",
         "60.0",
         "mq",
         "60.0",
         "2",
         "158",
         "40811839",
         "True",
         null,
         "True",
         null,
         "60.0",
         "56.0",
         "60.0",
         "56.0",
         "60.0",
         null,
         null,
         "200300000425",
         "3",
         "Lombardia",
         "20",
         "Mantova",
         "030",
         "20030",
         "0",
         "167.0",
         "72.0",
         "95.0",
         "6.0",
         "4.0",
         "3.0",
         "8.0",
         "7.0",
         "8.0",
         "14.0",
         "5.0",
         "8.0",
         "15.0",
         "8.0",
         "21.0",
         "18.0",
         "9.0",
         "7.0",
         "26.0",
         "4.0",
         "2.0",
         "1.0",
         "4.0",
         "6.0",
         "2.0",
         "7.0",
         "1.0",
         "3.0",
         "9.0",
         "3.0",
         "4.0",
         "8.0",
         "6.0",
         "2.0",
         "10.0",
         "2.0",
         "2.0",
         "2.0",
         "4.0",
         "1.0",
         "6.0",
         "7.0",
         "4.0",
         "5.0",
         "6.0",
         "5.0",
         "17.0",
         "10.0",
         "3.0",
         "5.0",
         "16.0",
         "157.0",
         "66.0",
         "91.0",
         "4.0",
         "15.0",
         "27.0",
         "71.0",
         "40.0",
         "2.0",
         "5.0",
         "14.0",
         "28.0",
         "17.0",
         "2.0",
         "10.0",
         "13.0",
         "43.0",
         "23.0",
         "86.0",
         "37.0",
         "49.0",
         "12.0",
         "107.0",
         "41.0",
         "7.0",
         "43.0",
         "18.0",
         "5.0",
         "64.0",
         "23.0",
         "81.0",
         "33.0",
         "48.0",
         "7.0",
         "4.0",
         "3.0",
         "5.0",
         "0.0",
         "2.0",
         "1.0",
         "0.0",
         "1.0",
         "6.0",
         "4.0",
         "2.0",
         "1.0",
         "5.0",
         "1.0",
         "0.0",
         "4.0",
         "0.0",
         "1.0",
         "1.0",
         "1.0",
         "5.0",
         "4.0",
         "1.0",
         "93.0",
         "47.0",
         "24.0",
         "16.0",
         "6.0",
         "0.0",
         "0.0",
         "92.0",
         "21.0",
         "113.0",
         "24.0",
         "MULTIPOLYGON (((10.771865220043798 45.151378512230337, 10.771339064021802 45.150416386289166, 10.772388467179798 45.150137931305444, 10.772086530105451 45.149499685589255, 10.7717823415102 45.149641732023483, 10.770975732745264 45.1500724701488, 10.770403564888998 45.150387205502071, 10.770915356218133 45.151347068695586, 10.771002776307544 45.151499647254994, 10.771086467020327 45.151581438385847, 10.771865220043798 45.151378512230337)))",
         "3",
         "20",
         "20030",
         "425",
         "1",
         "1",
         "2003010005",
         "0",
         "167",
         "93",
         "113",
         "24",
         "651.399531498",
         "16052.9653428",
         "b267e37f-d766-4532-84ee-c9b9f739e114",
         "3155dd7b-114d-4c9a-a54b-f3b44e528a53",
         null,
         "0B606409-DD62-484D-A004-1B9499CACCE2",
         "0B606409-DD62-484D-A004-1B9499CACCE2",
         null,
         "2",
         "2",
         null,
         "Normale",
         "Ottimo",
         null,
         "600.0",
         "1000.0",
         null,
         "900.0",
         "1500.0",
         null,
         "L",
         "L",
         null,
         "4.0",
         "5.0",
         null,
         "5.5",
         "6.5",
         "N",
         "N",
         "0B606409-DD62-484D-A004-1B9499CACCE2",
         "MN00001211",
         "C5/Semicentrale/POMPILIO - 2 PINI",
         "20211",
         "C5",
         "0050",
         "158",
         "_",
         "3782.49669894797",
         "277.59560021881",
         "MULTIPOLYGON (((10.77076187 45.15082203, 10.77051504 45.15040232, 10.77110649 45.15009289, 10.77110998 45.15010329, 10.77111879 45.15011386, 10.77113634 45.15012533, 10.77114593 45.15012888, 10.77115551 45.15013002, 10.77117226 45.15012812, 10.77120701 45.15011813, 10.77118595 45.15008144, 10.77118356 45.15007728, 10.77117194 45.15006897, 10.77116295 45.15006767, 10.77115429 45.15006812, 10.77117875 45.15005508, 10.77123015 45.1500249, 10.77131353 45.15015765, 10.77136157 45.1501468, 10.77136959 45.15016318, 10.771442 45.15031101, 10.7712942 45.1503536, 10.7713626 45.15046233, 10.77145691 45.15062594, 10.77129359 45.15067207, 10.77122128 45.1506925, 10.77110683 45.15072482, 10.77076187 45.15082203)))",
         "{\"type\": \"FeatureCollection\", \"features\": [{\"type\": \"Feature\", \"geometry\": {\"crs\": {\"type\": \"name\", \"properties\": {\"name\": \"EPSG:6706\"}}, \"type\": \"Polygon\", \"coordinates\": [[[10.77076187, 45.15082203], [10.77051504, 45.15040232], [10.77110649, 45.15009289], [10.77110998, 45.15010329], [10.77111879, 45.15011386], [10.77113634, 45.15012533], [10.77114593, 45.15012888], [10.77115551, 45.15013002], [10.77117226, 45.15012812], [10.77120701, 45.15011813], [10.77118595, 45.15008144], [10.77118356, 45.15007728], [10.77117194, 45.15006897], [10.77116295, 45.15006767], [10.77115429, 45.15006812], [10.77117875, 45.15005508], [10.77123015, 45.1500249], [10.77131353, 45.15015765], [10.77136157, 45.1501468], [10.77136959, 45.15016318], [10.771442, 45.15031101], [10.7712942, 45.1503536], [10.7713626, 45.15046233], [10.77145691, 45.15062594], [10.77129359, 45.15067207], [10.77122128, 45.1506925], [10.77110683, 45.15072482], [10.77076187, 45.15082203]]]}, \"properties\": {\"areaMq\": 3782.4966989479713, \"foglio\": \"0050\", \"sezione\": \"_\", \"particella\": \"158\", \"perimetroM\": 277.5956002188105, \"codiceCatastale\": \"E897\"}}]}",
         "6707",
         "POLYGON ((639196.40836153587 5001230.2498354157, 639178.02731861384 5001183.1989822723, 639225.27398722491 5001149.8434444638, 639225.52300563722 5001151.0047952514, 639226.1898102439 5001152.1941992175, 639227.54146599479 5001153.4986459184, 639228.28668133658 5001153.909542108, 639229.036979781 5001154.0526941232, 639230.35830877884 5001153.87048875, 639233.11430386116 5001152.8205855982, 639231.54815266514 5001148.7083975626, 639231.37040822627 5001148.2421441367, 639230.47720838152 5001147.2989605684, 639229.77367821336 5001147.1390507556, 639229.09182710806 5001147.17411731, 639231.04636458948 5001145.7676556576, 639235.16037846787 5001142.5035389, 639241.39148725418 5001157.3944433872, 639245.19429161 5001156.2719130516, 639245.78483955725 5001158.105390816, 639251.11683564959 5001174.6526370849, 639239.39472203888 5001179.1292255232, 639244.50672844984 5001191.3259342592, 639251.52178085921 5001209.66392889, 639238.57110674167 5001214.5070261471, 639232.83718239167 5001216.6519757956, 639223.76175392175 5001220.0451718941, 639196.40836153587 5001230.2498354157))",
         "POLYGON ((10.77051504 45.1500249, 10.77051504 45.15082203, 10.77145691 45.15082203, 10.77145691 45.1500249, 10.77051504 45.1500249))",
         "POLYGON ((10.773012 45.154506, 10.772012 45.154253, 10.770673 45.15279, 10.770662 45.151451, 10.769696 45.150451, 10.769456 45.149007, 10.768682 45.148451, 10.769012 45.147358, 10.770478 45.146918, 10.771012 45.146283, 10.772852 45.146611, 10.773012 45.147543, 10.773635 45.147075, 10.776113 45.147451, 10.77606 45.149451, 10.775012 45.149994, 10.774012 45.149955, 10.773578 45.151451, 10.772219 45.152451, 10.772298 45.153165, 10.773179 45.153451, 10.773418 45.154451, 10.773012 45.154506))",
         "POINT (10.771011852916253 45.150451395355937)",
         "POINT (10.770938205127523 45.150432325)",
         "11",
         "1",
         "0",
         "0",
         "0",
         "1",
         "0",
         "0",
         "2",
         "0",
         "1",
         "1",
         "2",
         "0",
         "10",
         "0",
         "0",
         "0",
         "65871.1217183771"
        ],
        [
         "4",
         "2021",
         "9",
         "2021",
         "20211",
         "8205.0",
         "MN00",
         "Residenziale",
         "Residenziale singolo",
         "2",
         "1238404",
         "MN002021008205",
         "SUPERFICIE",
         "1",
         "1",
         "True",
         "57.0",
         "31.0",
         "False",
         "False",
         "True",
         "e6e8c7d1-1e89-4bd4-96a3-e969d8ed1d6e",
         "PER",
         "00275",
         "6586169",
         "E897",
         null,
         "50",
         "158",
         "10",
         "C5",
         "VIALE BELGIOIOSO",
         "16D",
         "45.150455474853516",
         "10.770710945129395",
         "1",
         "POINT (10.7707 45.1505)",
         "S1",
         "46.12",
         "21.0",
         "mq",
         "21.0",
         "18",
         "158",
         "40811839",
         "True",
         null,
         "True",
         null,
         "21.0",
         null,
         "21.0",
         "21.0",
         "21.0",
         null,
         null,
         "200300000425",
         "3",
         "Lombardia",
         "20",
         "Mantova",
         "030",
         "20030",
         "0",
         "167.0",
         "72.0",
         "95.0",
         "6.0",
         "4.0",
         "3.0",
         "8.0",
         "7.0",
         "8.0",
         "14.0",
         "5.0",
         "8.0",
         "15.0",
         "8.0",
         "21.0",
         "18.0",
         "9.0",
         "7.0",
         "26.0",
         "4.0",
         "2.0",
         "1.0",
         "4.0",
         "6.0",
         "2.0",
         "7.0",
         "1.0",
         "3.0",
         "9.0",
         "3.0",
         "4.0",
         "8.0",
         "6.0",
         "2.0",
         "10.0",
         "2.0",
         "2.0",
         "2.0",
         "4.0",
         "1.0",
         "6.0",
         "7.0",
         "4.0",
         "5.0",
         "6.0",
         "5.0",
         "17.0",
         "10.0",
         "3.0",
         "5.0",
         "16.0",
         "157.0",
         "66.0",
         "91.0",
         "4.0",
         "15.0",
         "27.0",
         "71.0",
         "40.0",
         "2.0",
         "5.0",
         "14.0",
         "28.0",
         "17.0",
         "2.0",
         "10.0",
         "13.0",
         "43.0",
         "23.0",
         "86.0",
         "37.0",
         "49.0",
         "12.0",
         "107.0",
         "41.0",
         "7.0",
         "43.0",
         "18.0",
         "5.0",
         "64.0",
         "23.0",
         "81.0",
         "33.0",
         "48.0",
         "7.0",
         "4.0",
         "3.0",
         "5.0",
         "0.0",
         "2.0",
         "1.0",
         "0.0",
         "1.0",
         "6.0",
         "4.0",
         "2.0",
         "1.0",
         "5.0",
         "1.0",
         "0.0",
         "4.0",
         "0.0",
         "1.0",
         "1.0",
         "1.0",
         "5.0",
         "4.0",
         "1.0",
         "93.0",
         "47.0",
         "24.0",
         "16.0",
         "6.0",
         "0.0",
         "0.0",
         "92.0",
         "21.0",
         "113.0",
         "24.0",
         "MULTIPOLYGON (((10.771865220043798 45.151378512230337, 10.771339064021802 45.150416386289166, 10.772388467179798 45.150137931305444, 10.772086530105451 45.149499685589255, 10.7717823415102 45.149641732023483, 10.770975732745264 45.1500724701488, 10.770403564888998 45.150387205502071, 10.770915356218133 45.151347068695586, 10.771002776307544 45.151499647254994, 10.771086467020327 45.151581438385847, 10.771865220043798 45.151378512230337)))",
         "3",
         "20",
         "20030",
         "425",
         "1",
         "1",
         "2003010005",
         "0",
         "167",
         "93",
         "113",
         "24",
         "651.399531498",
         "16052.9653428",
         "c6533052-e511-4684-9dab-b9207f344813",
         null,
         null,
         "0B606409-DD62-484D-A004-1B9499CACCE2",
         null,
         null,
         "18",
         null,
         null,
         "Normale",
         null,
         null,
         "700.0",
         null,
         null,
         "1000.0",
         null,
         null,
         "L",
         null,
         null,
         "3.5",
         null,
         null,
         "5.2",
         null,
         "N",
         null,
         "0B606409-DD62-484D-A004-1B9499CACCE2",
         "MN00001211",
         "C5/Semicentrale/POMPILIO - 2 PINI",
         "20211",
         "C5",
         "0050",
         "158",
         "_",
         "3782.49669894797",
         "277.59560021881",
         "MULTIPOLYGON (((10.77076187 45.15082203, 10.77051504 45.15040232, 10.77110649 45.15009289, 10.77110998 45.15010329, 10.77111879 45.15011386, 10.77113634 45.15012533, 10.77114593 45.15012888, 10.77115551 45.15013002, 10.77117226 45.15012812, 10.77120701 45.15011813, 10.77118595 45.15008144, 10.77118356 45.15007728, 10.77117194 45.15006897, 10.77116295 45.15006767, 10.77115429 45.15006812, 10.77117875 45.15005508, 10.77123015 45.1500249, 10.77131353 45.15015765, 10.77136157 45.1501468, 10.77136959 45.15016318, 10.771442 45.15031101, 10.7712942 45.1503536, 10.7713626 45.15046233, 10.77145691 45.15062594, 10.77129359 45.15067207, 10.77122128 45.1506925, 10.77110683 45.15072482, 10.77076187 45.15082203)))",
         "{\"type\": \"FeatureCollection\", \"features\": [{\"type\": \"Feature\", \"geometry\": {\"crs\": {\"type\": \"name\", \"properties\": {\"name\": \"EPSG:6706\"}}, \"type\": \"Polygon\", \"coordinates\": [[[10.77076187, 45.15082203], [10.77051504, 45.15040232], [10.77110649, 45.15009289], [10.77110998, 45.15010329], [10.77111879, 45.15011386], [10.77113634, 45.15012533], [10.77114593, 45.15012888], [10.77115551, 45.15013002], [10.77117226, 45.15012812], [10.77120701, 45.15011813], [10.77118595, 45.15008144], [10.77118356, 45.15007728], [10.77117194, 45.15006897], [10.77116295, 45.15006767], [10.77115429, 45.15006812], [10.77117875, 45.15005508], [10.77123015, 45.1500249], [10.77131353, 45.15015765], [10.77136157, 45.1501468], [10.77136959, 45.15016318], [10.771442, 45.15031101], [10.7712942, 45.1503536], [10.7713626, 45.15046233], [10.77145691, 45.15062594], [10.77129359, 45.15067207], [10.77122128, 45.1506925], [10.77110683, 45.15072482], [10.77076187, 45.15082203]]]}, \"properties\": {\"areaMq\": 3782.4966989479713, \"foglio\": \"0050\", \"sezione\": \"_\", \"particella\": \"158\", \"perimetroM\": 277.5956002188105, \"codiceCatastale\": \"E897\"}}]}",
         "6707",
         "POLYGON ((639196.40836153587 5001230.2498354157, 639178.02731861384 5001183.1989822723, 639225.27398722491 5001149.8434444638, 639225.52300563722 5001151.0047952514, 639226.1898102439 5001152.1941992175, 639227.54146599479 5001153.4986459184, 639228.28668133658 5001153.909542108, 639229.036979781 5001154.0526941232, 639230.35830877884 5001153.87048875, 639233.11430386116 5001152.8205855982, 639231.54815266514 5001148.7083975626, 639231.37040822627 5001148.2421441367, 639230.47720838152 5001147.2989605684, 639229.77367821336 5001147.1390507556, 639229.09182710806 5001147.17411731, 639231.04636458948 5001145.7676556576, 639235.16037846787 5001142.5035389, 639241.39148725418 5001157.3944433872, 639245.19429161 5001156.2719130516, 639245.78483955725 5001158.105390816, 639251.11683564959 5001174.6526370849, 639239.39472203888 5001179.1292255232, 639244.50672844984 5001191.3259342592, 639251.52178085921 5001209.66392889, 639238.57110674167 5001214.5070261471, 639232.83718239167 5001216.6519757956, 639223.76175392175 5001220.0451718941, 639196.40836153587 5001230.2498354157))",
         "POLYGON ((10.77051504 45.1500249, 10.77051504 45.15082203, 10.77145691 45.15082203, 10.77145691 45.1500249, 10.77051504 45.1500249))",
         "POLYGON ((10.773012 45.154506, 10.772012 45.154253, 10.770673 45.15279, 10.770662 45.151451, 10.769696 45.150451, 10.769456 45.149007, 10.768682 45.148451, 10.769012 45.147358, 10.770478 45.146918, 10.771012 45.146283, 10.772852 45.146611, 10.773012 45.147543, 10.773635 45.147075, 10.776113 45.147451, 10.77606 45.149451, 10.775012 45.149994, 10.774012 45.149955, 10.773578 45.151451, 10.772219 45.152451, 10.772298 45.153165, 10.773179 45.153451, 10.773418 45.154451, 10.773012 45.154506))",
         "POINT (10.771011852916253 45.150451395355937)",
         "POINT (10.770938205127523 45.150432325)",
         "11",
         "1",
         "0",
         "0",
         "0",
         "1",
         "0",
         "0",
         "2",
         "0",
         "1",
         "1",
         "2",
         "0",
         "10",
         "0",
         "0",
         "0",
         "26128.87828162291"
        ]
       ],
       "shape": {
        "columns": 262,
        "rows": 5
       }
      },
      "text/html": [
       "<div>\n",
       "<style scoped>\n",
       "    .dataframe tbody tr th:only-of-type {\n",
       "        vertical-align: middle;\n",
       "    }\n",
       "\n",
       "    .dataframe tbody tr th {\n",
       "        vertical-align: top;\n",
       "    }\n",
       "\n",
       "    .dataframe thead th {\n",
       "        text-align: right;\n",
       "    }\n",
       "</style>\n",
       "<table border=\"1\" class=\"dataframe\">\n",
       "  <thead>\n",
       "    <tr style=\"text-align: right;\">\n",
       "      <th></th>\n",
       "      <th>A_AnnoStipula</th>\n",
       "      <th>A_MeseStipula</th>\n",
       "      <th>A_Anno</th>\n",
       "      <th>A_Semestre</th>\n",
       "      <th>A_RegPart</th>\n",
       "      <th>A_IdConservatoria</th>\n",
       "      <th>A_IdTipologiaAtto</th>\n",
       "      <th>A_IdDecodificaAtto</th>\n",
       "      <th>A_TotaleImmobili</th>\n",
       "      <th>A_Numero</th>\n",
       "      <th>...</th>\n",
       "      <th>POI_gym_count</th>\n",
       "      <th>POI_park_count</th>\n",
       "      <th>POI_restaurant_count</th>\n",
       "      <th>POI_school_count</th>\n",
       "      <th>POI_gas_station_count</th>\n",
       "      <th>POI_transit_station_count</th>\n",
       "      <th>POI_supermarket_count</th>\n",
       "      <th>POI_university_count</th>\n",
       "      <th>InZTL</th>\n",
       "      <th>AI_Prezzo_Ridistribuito</th>\n",
       "    </tr>\n",
       "  </thead>\n",
       "  <tbody>\n",
       "    <tr>\n",
       "      <th>0</th>\n",
       "      <td>2021</td>\n",
       "      <td>12</td>\n",
       "      <td>2021</td>\n",
       "      <td>20211</td>\n",
       "      <td>12210.0</td>\n",
       "      <td>MN00</td>\n",
       "      <td>Residenziale</td>\n",
       "      <td>Residenziale singolo</td>\n",
       "      <td>2</td>\n",
       "      <td>1356428</td>\n",
       "      <td>...</td>\n",
       "      <td>2</td>\n",
       "      <td>1</td>\n",
       "      <td>13</td>\n",
       "      <td>2</td>\n",
       "      <td>0</td>\n",
       "      <td>23</td>\n",
       "      <td>1</td>\n",
       "      <td>1</td>\n",
       "      <td>0</td>\n",
       "      <td>2175.572519</td>\n",
       "    </tr>\n",
       "    <tr>\n",
       "      <th>1</th>\n",
       "      <td>2021</td>\n",
       "      <td>12</td>\n",
       "      <td>2021</td>\n",
       "      <td>20211</td>\n",
       "      <td>12210.0</td>\n",
       "      <td>MN00</td>\n",
       "      <td>Residenziale</td>\n",
       "      <td>Residenziale singolo</td>\n",
       "      <td>2</td>\n",
       "      <td>1356428</td>\n",
       "      <td>...</td>\n",
       "      <td>2</td>\n",
       "      <td>1</td>\n",
       "      <td>13</td>\n",
       "      <td>2</td>\n",
       "      <td>0</td>\n",
       "      <td>23</td>\n",
       "      <td>1</td>\n",
       "      <td>1</td>\n",
       "      <td>0</td>\n",
       "      <td>92824.427481</td>\n",
       "    </tr>\n",
       "    <tr>\n",
       "      <th>2</th>\n",
       "      <td>2023</td>\n",
       "      <td>9</td>\n",
       "      <td>2023</td>\n",
       "      <td>20231</td>\n",
       "      <td>NaN</td>\n",
       "      <td>MN00</td>\n",
       "      <td>Pertinenze</td>\n",
       "      <td>Pertinenze</td>\n",
       "      <td>1</td>\n",
       "      <td>2438036</td>\n",
       "      <td>...</td>\n",
       "      <td>3</td>\n",
       "      <td>0</td>\n",
       "      <td>3</td>\n",
       "      <td>0</td>\n",
       "      <td>1</td>\n",
       "      <td>15</td>\n",
       "      <td>1</td>\n",
       "      <td>2</td>\n",
       "      <td>0</td>\n",
       "      <td>25000.000000</td>\n",
       "    </tr>\n",
       "    <tr>\n",
       "      <th>3</th>\n",
       "      <td>2021</td>\n",
       "      <td>9</td>\n",
       "      <td>2021</td>\n",
       "      <td>20211</td>\n",
       "      <td>8205.0</td>\n",
       "      <td>MN00</td>\n",
       "      <td>Residenziale</td>\n",
       "      <td>Residenziale singolo</td>\n",
       "      <td>2</td>\n",
       "      <td>1238404</td>\n",
       "      <td>...</td>\n",
       "      <td>0</td>\n",
       "      <td>1</td>\n",
       "      <td>1</td>\n",
       "      <td>2</td>\n",
       "      <td>0</td>\n",
       "      <td>10</td>\n",
       "      <td>0</td>\n",
       "      <td>0</td>\n",
       "      <td>0</td>\n",
       "      <td>65871.121718</td>\n",
       "    </tr>\n",
       "    <tr>\n",
       "      <th>4</th>\n",
       "      <td>2021</td>\n",
       "      <td>9</td>\n",
       "      <td>2021</td>\n",
       "      <td>20211</td>\n",
       "      <td>8205.0</td>\n",
       "      <td>MN00</td>\n",
       "      <td>Residenziale</td>\n",
       "      <td>Residenziale singolo</td>\n",
       "      <td>2</td>\n",
       "      <td>1238404</td>\n",
       "      <td>...</td>\n",
       "      <td>0</td>\n",
       "      <td>1</td>\n",
       "      <td>1</td>\n",
       "      <td>2</td>\n",
       "      <td>0</td>\n",
       "      <td>10</td>\n",
       "      <td>0</td>\n",
       "      <td>0</td>\n",
       "      <td>0</td>\n",
       "      <td>26128.878282</td>\n",
       "    </tr>\n",
       "  </tbody>\n",
       "</table>\n",
       "<p>5 rows × 262 columns</p>\n",
       "</div>"
      ],
      "text/plain": [
       "   A_AnnoStipula  A_MeseStipula  A_Anno A_Semestre  A_RegPart  \\\n",
       "0           2021             12    2021      20211    12210.0   \n",
       "1           2021             12    2021      20211    12210.0   \n",
       "2           2023              9    2023      20231        NaN   \n",
       "3           2021              9    2021      20211     8205.0   \n",
       "4           2021              9    2021      20211     8205.0   \n",
       "\n",
       "  A_IdConservatoria A_IdTipologiaAtto    A_IdDecodificaAtto  A_TotaleImmobili  \\\n",
       "0              MN00      Residenziale  Residenziale singolo                 2   \n",
       "1              MN00      Residenziale  Residenziale singolo                 2   \n",
       "2              MN00        Pertinenze            Pertinenze                 1   \n",
       "3              MN00      Residenziale  Residenziale singolo                 2   \n",
       "4              MN00      Residenziale  Residenziale singolo                 2   \n",
       "\n",
       "   A_Numero  ... POI_gym_count POI_park_count  POI_restaurant_count  \\\n",
       "0   1356428  ...             2              1                    13   \n",
       "1   1356428  ...             2              1                    13   \n",
       "2   2438036  ...             3              0                     3   \n",
       "3   1238404  ...             0              1                     1   \n",
       "4   1238404  ...             0              1                     1   \n",
       "\n",
       "   POI_school_count  POI_gas_station_count  POI_transit_station_count  \\\n",
       "0                 2                      0                         23   \n",
       "1                 2                      0                         23   \n",
       "2                 0                      1                         15   \n",
       "3                 2                      0                         10   \n",
       "4                 2                      0                         10   \n",
       "\n",
       "   POI_supermarket_count  POI_university_count InZTL  AI_Prezzo_Ridistribuito  \n",
       "0                      1                     1     0              2175.572519  \n",
       "1                      1                     1     0             92824.427481  \n",
       "2                      1                     2     0             25000.000000  \n",
       "3                      0                     0     0             65871.121718  \n",
       "4                      0                     0     0             26128.878282  \n",
       "\n",
       "[5 rows x 262 columns]"
      ]
     },
     "metadata": {},
     "output_type": "display_data"
    },
    {
     "name": "stdout",
     "output_type": "stream",
     "text": [
      "\n",
      "📝 Informazioni dettagliate sulle colonne:\n"
     ]
    },
    {
     "data": {
      "application/vnd.microsoft.datawrangler.viewer.v0+json": {
       "columns": [
        {
         "name": "index",
         "rawType": "object",
         "type": "string"
        },
        {
         "name": "Tipo",
         "rawType": "object",
         "type": "unknown"
        },
        {
         "name": "Valori Non-Nulli",
         "rawType": "int64",
         "type": "integer"
        },
        {
         "name": "Valori Nulli",
         "rawType": "int64",
         "type": "integer"
        },
        {
         "name": "% Completamento",
         "rawType": "float64",
         "type": "float"
        }
       ],
       "ref": "7741189d-d663-4c48-8a06-b465f2b42fa9",
       "rows": [
        [
         "A_AnnoStipula",
         "int64",
         "5733",
         "0",
         "100.0"
        ],
        [
         "A_MeseStipula",
         "int64",
         "5733",
         "0",
         "100.0"
        ],
        [
         "A_Anno",
         "int64",
         "5733",
         "0",
         "100.0"
        ],
        [
         "A_Semestre",
         "object",
         "5733",
         "0",
         "100.0"
        ],
        [
         "A_RegPart",
         "float64",
         "3206",
         "2527",
         "55.92"
        ],
        [
         "A_IdConservatoria",
         "object",
         "5733",
         "0",
         "100.0"
        ],
        [
         "A_IdTipologiaAtto",
         "object",
         "5733",
         "0",
         "100.0"
        ],
        [
         "A_IdDecodificaAtto",
         "object",
         "5733",
         "0",
         "100.0"
        ],
        [
         "A_TotaleImmobili",
         "int64",
         "5733",
         "0",
         "100.0"
        ],
        [
         "A_Numero",
         "int64",
         "5733",
         "0",
         "100.0"
        ],
        [
         "A_Codice",
         "object",
         "3206",
         "2527",
         "55.92"
        ],
        [
         "A_IdTipoConsistenza",
         "object",
         "5733",
         "0",
         "100.0"
        ],
        [
         "A_AcquirentiCount",
         "int64",
         "5733",
         "0",
         "100.0"
        ],
        [
         "A_VenditoriCount",
         "int64",
         "5733",
         "0",
         "100.0"
        ],
        [
         "A_DatiCatastaliCompleti",
         "bool",
         "5733",
         "0",
         "100.0"
        ],
        [
         "A_EtaMediaAcquirenti",
         "float64",
         "5111",
         "622",
         "89.15"
        ],
        [
         "A_EtaMediaVenditori",
         "float64",
         "4270",
         "1463",
         "74.48"
        ],
        [
         "A_AcquirentiVenditoriStessoCognome",
         "bool",
         "5733",
         "0",
         "100.0"
        ],
        [
         "A_VenditoriEredita",
         "object",
         "5628",
         "105",
         "98.17"
        ],
        [
         "A_ImmobiliPrincipaliConSuperficieValorizzata",
         "bool",
         "5733",
         "0",
         "100.0"
        ],
        [
         "AI_Id",
         "object",
         "5733",
         "0",
         "100.0"
        ],
        [
         "AI_IdSettoreMercato",
         "object",
         "5733",
         "0",
         "100.0"
        ],
        [
         "AI_IdCategoriaCatastale",
         "object",
         "5733",
         "0",
         "100.0"
        ],
        [
         "AI_Numero",
         "int64",
         "5733",
         "0",
         "100.0"
        ],
        [
         "AI_IdComune",
         "object",
         "5733",
         "0",
         "100.0"
        ],
        [
         "AI_SezioneAmministrativa",
         "object",
         "0",
         "5733",
         "0.0"
        ],
        [
         "AI_Foglio",
         "object",
         "5733",
         "0",
         "100.0"
        ],
        [
         "AI_Particella",
         "object",
         "5733",
         "0",
         "100.0"
        ],
        [
         "AI_Subalterno",
         "object",
         "3105",
         "2628",
         "54.16"
        ],
        [
         "AI_ZonaOmi",
         "object",
         "5682",
         "51",
         "99.11"
        ],
        [
         "AI_Via",
         "object",
         "5675",
         "58",
         "98.99"
        ],
        [
         "AI_Civico",
         "object",
         "5342",
         "391",
         "93.18"
        ],
        [
         "AI_Latitudine",
         "float64",
         "5733",
         "0",
         "100.0"
        ],
        [
         "AI_Longitudine",
         "float64",
         "5733",
         "0",
         "100.0"
        ],
        [
         "AI_QuotaFavore",
         "int64",
         "5733",
         "0",
         "100.0"
        ],
        [
         "AI_Posizione",
         "object",
         "5733",
         "0",
         "100.0"
        ],
        [
         "AI_Piano",
         "object",
         "2804",
         "2929",
         "48.91"
        ],
        [
         "AI_Rendita",
         "float64",
         "2820",
         "2913",
         "49.19"
        ],
        [
         "AI_ConsistenzaValore",
         "float64",
         "5733",
         "0",
         "100.0"
        ],
        [
         "AI_ConsistenzaUm",
         "object",
         "5733",
         "0",
         "100.0"
        ],
        [
         "AI_SuperficieCalcolata",
         "float64",
         "5730",
         "3",
         "99.95"
        ],
        [
         "AI_IdTipologiaEdilizia",
         "object",
         "5733",
         "0",
         "100.0"
        ],
        [
         "AI_ParticellaAttuale",
         "object",
         "5733",
         "0",
         "100.0"
        ],
        [
         "AI_IdParticellaCatastale",
         "int64",
         "5733",
         "0",
         "100.0"
        ],
        [
         "AI_VisuraScaricata",
         "bool",
         "5733",
         "0",
         "100.0"
        ],
        [
         "AI_VisuraErrore",
         "object",
         "8",
         "5725",
         "0.14"
        ],
        [
         "AI_VisuraParseMutazioniSoggettive",
         "bool",
         "5733",
         "0",
         "100.0"
        ],
        [
         "AI_VisuraParseMutazioniSoggettiveErrore",
         "object",
         "3",
         "5730",
         "0.05"
        ],
        [
         "AI_SuperficieVisuraTotale",
         "float64",
         "3153",
         "2580",
         "55.0"
        ],
        [
         "AI_SuperficieVisuraTotaleE",
         "float64",
         "1620",
         "4113",
         "28.26"
        ]
       ],
       "shape": {
        "columns": 4,
        "rows": 262
       }
      },
      "text/html": [
       "<div>\n",
       "<style scoped>\n",
       "    .dataframe tbody tr th:only-of-type {\n",
       "        vertical-align: middle;\n",
       "    }\n",
       "\n",
       "    .dataframe tbody tr th {\n",
       "        vertical-align: top;\n",
       "    }\n",
       "\n",
       "    .dataframe thead th {\n",
       "        text-align: right;\n",
       "    }\n",
       "</style>\n",
       "<table border=\"1\" class=\"dataframe\">\n",
       "  <thead>\n",
       "    <tr style=\"text-align: right;\">\n",
       "      <th></th>\n",
       "      <th>Tipo</th>\n",
       "      <th>Valori Non-Nulli</th>\n",
       "      <th>Valori Nulli</th>\n",
       "      <th>% Completamento</th>\n",
       "    </tr>\n",
       "  </thead>\n",
       "  <tbody>\n",
       "    <tr>\n",
       "      <th>A_AnnoStipula</th>\n",
       "      <td>int64</td>\n",
       "      <td>5733</td>\n",
       "      <td>0</td>\n",
       "      <td>100.00</td>\n",
       "    </tr>\n",
       "    <tr>\n",
       "      <th>A_MeseStipula</th>\n",
       "      <td>int64</td>\n",
       "      <td>5733</td>\n",
       "      <td>0</td>\n",
       "      <td>100.00</td>\n",
       "    </tr>\n",
       "    <tr>\n",
       "      <th>A_Anno</th>\n",
       "      <td>int64</td>\n",
       "      <td>5733</td>\n",
       "      <td>0</td>\n",
       "      <td>100.00</td>\n",
       "    </tr>\n",
       "    <tr>\n",
       "      <th>A_Semestre</th>\n",
       "      <td>object</td>\n",
       "      <td>5733</td>\n",
       "      <td>0</td>\n",
       "      <td>100.00</td>\n",
       "    </tr>\n",
       "    <tr>\n",
       "      <th>A_RegPart</th>\n",
       "      <td>float64</td>\n",
       "      <td>3206</td>\n",
       "      <td>2527</td>\n",
       "      <td>55.92</td>\n",
       "    </tr>\n",
       "    <tr>\n",
       "      <th>...</th>\n",
       "      <td>...</td>\n",
       "      <td>...</td>\n",
       "      <td>...</td>\n",
       "      <td>...</td>\n",
       "    </tr>\n",
       "    <tr>\n",
       "      <th>POI_transit_station_count</th>\n",
       "      <td>int64</td>\n",
       "      <td>5733</td>\n",
       "      <td>0</td>\n",
       "      <td>100.00</td>\n",
       "    </tr>\n",
       "    <tr>\n",
       "      <th>POI_supermarket_count</th>\n",
       "      <td>int64</td>\n",
       "      <td>5733</td>\n",
       "      <td>0</td>\n",
       "      <td>100.00</td>\n",
       "    </tr>\n",
       "    <tr>\n",
       "      <th>POI_university_count</th>\n",
       "      <td>int64</td>\n",
       "      <td>5733</td>\n",
       "      <td>0</td>\n",
       "      <td>100.00</td>\n",
       "    </tr>\n",
       "    <tr>\n",
       "      <th>InZTL</th>\n",
       "      <td>int64</td>\n",
       "      <td>5733</td>\n",
       "      <td>0</td>\n",
       "      <td>100.00</td>\n",
       "    </tr>\n",
       "    <tr>\n",
       "      <th>AI_Prezzo_Ridistribuito</th>\n",
       "      <td>float64</td>\n",
       "      <td>5733</td>\n",
       "      <td>0</td>\n",
       "      <td>100.00</td>\n",
       "    </tr>\n",
       "  </tbody>\n",
       "</table>\n",
       "<p>262 rows × 4 columns</p>\n",
       "</div>"
      ],
      "text/plain": [
       "                              Tipo  Valori Non-Nulli  Valori Nulli  \\\n",
       "A_AnnoStipula                int64              5733             0   \n",
       "A_MeseStipula                int64              5733             0   \n",
       "A_Anno                       int64              5733             0   \n",
       "A_Semestre                  object              5733             0   \n",
       "A_RegPart                  float64              3206          2527   \n",
       "...                            ...               ...           ...   \n",
       "POI_transit_station_count    int64              5733             0   \n",
       "POI_supermarket_count        int64              5733             0   \n",
       "POI_university_count         int64              5733             0   \n",
       "InZTL                        int64              5733             0   \n",
       "AI_Prezzo_Ridistribuito    float64              5733             0   \n",
       "\n",
       "                           % Completamento  \n",
       "A_AnnoStipula                       100.00  \n",
       "A_MeseStipula                       100.00  \n",
       "A_Anno                              100.00  \n",
       "A_Semestre                          100.00  \n",
       "A_RegPart                            55.92  \n",
       "...                                    ...  \n",
       "POI_transit_station_count           100.00  \n",
       "POI_supermarket_count               100.00  \n",
       "POI_university_count                100.00  \n",
       "InZTL                               100.00  \n",
       "AI_Prezzo_Ridistribuito             100.00  \n",
       "\n",
       "[262 rows x 4 columns]"
      ]
     },
     "metadata": {},
     "output_type": "display_data"
    }
   ],
   "source": [
    "\n",
    "# Prime righe del dataset\n",
    "print(\"\\n🔍 Prime 5 righe del dataset:\")\n",
    "display(df_raw.head())\n",
    "\n",
    "# Informazioni dettagliate sulle colonne\n",
    "print(\"\\n📝 Informazioni dettagliate sulle colonne:\")\n",
    "df_info = df_raw.dtypes.to_frame('Tipo')\n",
    "df_info['Valori Non-Nulli'] = df_raw.count()\n",
    "df_info['Valori Nulli'] = df_raw.isnull().sum()\n",
    "df_info['% Completamento'] = (1 - df_raw.isnull().mean()) * 100\n",
    "display(df_info.round(2))\n"
   ]
  },
  {
   "cell_type": "markdown",
   "id": "e4282a0f",
   "metadata": {},
   "source": [
    "## 3. Analisi Missingness"
   ]
  },
  {
   "cell_type": "code",
   "execution_count": 5,
   "id": "95265a30",
   "metadata": {},
   "outputs": [
    {
     "name": "stdout",
     "output_type": "stream",
     "text": [
      "============================================================\n",
      "🔍 ANALISI MISSINGNESS\n",
      "============================================================\n",
      "\n",
      "⚠️  Colonne con >50% valori mancanti (26 colonne):\n"
     ]
    },
    {
     "data": {
      "application/vnd.microsoft.datawrangler.viewer.v0+json": {
       "columns": [
        {
         "name": "index",
         "rawType": "object",
         "type": "string"
        },
        {
         "name": "Totale_Null",
         "rawType": "int64",
         "type": "integer"
        },
        {
         "name": "Percentuale_Null",
         "rawType": "float64",
         "type": "float"
        },
        {
         "name": "Tipo",
         "rawType": "object",
         "type": "unknown"
        }
       ],
       "ref": "eb8613a7-4fdc-471f-9956-a693efef06ca",
       "rows": [
        [
         "AI_SezioneAmministrativa",
         "5733",
         "100.0",
         "object"
        ],
        [
         "AI_VisuraParseMutazioniSoggettiveErrore",
         "5730",
         "99.95",
         "object"
        ],
        [
         "AI_VisuraErrore",
         "5725",
         "99.86",
         "object"
        ],
        [
         "OV_Id_scadente",
         "5348",
         "93.28",
         "object"
        ],
        [
         "OV_ValoreLocazioneMin_scadente",
         "5348",
         "93.28",
         "float64"
        ],
        [
         "OV_ValoreMercatoSup_scadente",
         "5348",
         "93.28",
         "object"
        ],
        [
         "OV_Stato_scadente",
         "5348",
         "93.28",
         "object"
        ],
        [
         "OV_ValoreMercatoMin_scadente",
         "5348",
         "93.28",
         "float64"
        ],
        [
         "OV_IdTipologiaEdilizia_scadente",
         "5348",
         "93.28",
         "object"
        ],
        [
         "OV_IdZona_scadente",
         "5348",
         "93.28",
         "object"
        ]
       ],
       "shape": {
        "columns": 3,
        "rows": 10
       }
      },
      "text/html": [
       "<div>\n",
       "<style scoped>\n",
       "    .dataframe tbody tr th:only-of-type {\n",
       "        vertical-align: middle;\n",
       "    }\n",
       "\n",
       "    .dataframe tbody tr th {\n",
       "        vertical-align: top;\n",
       "    }\n",
       "\n",
       "    .dataframe thead th {\n",
       "        text-align: right;\n",
       "    }\n",
       "</style>\n",
       "<table border=\"1\" class=\"dataframe\">\n",
       "  <thead>\n",
       "    <tr style=\"text-align: right;\">\n",
       "      <th></th>\n",
       "      <th>Totale_Null</th>\n",
       "      <th>Percentuale_Null</th>\n",
       "      <th>Tipo</th>\n",
       "    </tr>\n",
       "  </thead>\n",
       "  <tbody>\n",
       "    <tr>\n",
       "      <th>AI_SezioneAmministrativa</th>\n",
       "      <td>5733</td>\n",
       "      <td>100.00</td>\n",
       "      <td>object</td>\n",
       "    </tr>\n",
       "    <tr>\n",
       "      <th>AI_VisuraParseMutazioniSoggettiveErrore</th>\n",
       "      <td>5730</td>\n",
       "      <td>99.95</td>\n",
       "      <td>object</td>\n",
       "    </tr>\n",
       "    <tr>\n",
       "      <th>AI_VisuraErrore</th>\n",
       "      <td>5725</td>\n",
       "      <td>99.86</td>\n",
       "      <td>object</td>\n",
       "    </tr>\n",
       "    <tr>\n",
       "      <th>OV_Id_scadente</th>\n",
       "      <td>5348</td>\n",
       "      <td>93.28</td>\n",
       "      <td>object</td>\n",
       "    </tr>\n",
       "    <tr>\n",
       "      <th>OV_ValoreLocazioneMin_scadente</th>\n",
       "      <td>5348</td>\n",
       "      <td>93.28</td>\n",
       "      <td>float64</td>\n",
       "    </tr>\n",
       "    <tr>\n",
       "      <th>OV_ValoreMercatoSup_scadente</th>\n",
       "      <td>5348</td>\n",
       "      <td>93.28</td>\n",
       "      <td>object</td>\n",
       "    </tr>\n",
       "    <tr>\n",
       "      <th>OV_Stato_scadente</th>\n",
       "      <td>5348</td>\n",
       "      <td>93.28</td>\n",
       "      <td>object</td>\n",
       "    </tr>\n",
       "    <tr>\n",
       "      <th>OV_ValoreMercatoMin_scadente</th>\n",
       "      <td>5348</td>\n",
       "      <td>93.28</td>\n",
       "      <td>float64</td>\n",
       "    </tr>\n",
       "    <tr>\n",
       "      <th>OV_IdTipologiaEdilizia_scadente</th>\n",
       "      <td>5348</td>\n",
       "      <td>93.28</td>\n",
       "      <td>object</td>\n",
       "    </tr>\n",
       "    <tr>\n",
       "      <th>OV_IdZona_scadente</th>\n",
       "      <td>5348</td>\n",
       "      <td>93.28</td>\n",
       "      <td>object</td>\n",
       "    </tr>\n",
       "  </tbody>\n",
       "</table>\n",
       "</div>"
      ],
      "text/plain": [
       "                                         Totale_Null  Percentuale_Null  \\\n",
       "AI_SezioneAmministrativa                        5733            100.00   \n",
       "AI_VisuraParseMutazioniSoggettiveErrore         5730             99.95   \n",
       "AI_VisuraErrore                                 5725             99.86   \n",
       "OV_Id_scadente                                  5348             93.28   \n",
       "OV_ValoreLocazioneMin_scadente                  5348             93.28   \n",
       "OV_ValoreMercatoSup_scadente                    5348             93.28   \n",
       "OV_Stato_scadente                               5348             93.28   \n",
       "OV_ValoreMercatoMin_scadente                    5348             93.28   \n",
       "OV_IdTipologiaEdilizia_scadente                 5348             93.28   \n",
       "OV_IdZona_scadente                              5348             93.28   \n",
       "\n",
       "                                            Tipo  \n",
       "AI_SezioneAmministrativa                  object  \n",
       "AI_VisuraParseMutazioniSoggettiveErrore   object  \n",
       "AI_VisuraErrore                           object  \n",
       "OV_Id_scadente                            object  \n",
       "OV_ValoreLocazioneMin_scadente           float64  \n",
       "OV_ValoreMercatoSup_scadente              object  \n",
       "OV_Stato_scadente                         object  \n",
       "OV_ValoreMercatoMin_scadente             float64  \n",
       "OV_IdTipologiaEdilizia_scadente           object  \n",
       "OV_IdZona_scadente                        object  "
      ]
     },
     "metadata": {},
     "output_type": "display_data"
    },
    {
     "name": "stdout",
     "output_type": "stream",
     "text": [
      "\n",
      "💾 Risultati salvati in eda_outputs/missingness_analysis.csv\n"
     ]
    }
   ],
   "source": [
    "\n",
    "print(\"=\" * 60)\n",
    "print(\"🔍 ANALISI MISSINGNESS\")\n",
    "print(\"=\" * 60)\n",
    "\n",
    "missing_stats = pd.DataFrame({\n",
    "    'Totale_Null': df_raw.isnull().sum(),\n",
    "    'Percentuale_Null': (df_raw.isnull().mean() * 100).round(2),\n",
    "    'Tipo': df_raw.dtypes\n",
    "})\n",
    "\n",
    "high_missing = missing_stats[missing_stats['Percentuale_Null'] > 50].sort_values('Percentuale_Null', ascending=False)\n",
    "\n",
    "print(f\"\\n⚠️  Colonne con >50% valori mancanti ({len(high_missing)} colonne):\")\n",
    "if len(high_missing) > 0:\n",
    "    display(high_missing.head(10))\n",
    "else:\n",
    "    print(\"  Nessuna colonna con >50% valori mancanti\")\n",
    "\n",
    "# Salva risultati\n",
    "missing_stats.to_csv(output_dir / 'missingness_analysis.csv')\n",
    "print(f\"\\n💾 Risultati salvati in {output_dir}/missingness_analysis.csv\")\n"
   ]
  },
  {
   "cell_type": "markdown",
   "id": "31fe91a6",
   "metadata": {},
   "source": [
    "## 4. Analisi del Target"
   ]
  },
  {
   "cell_type": "code",
   "execution_count": 6,
   "id": "ad1357d1",
   "metadata": {},
   "outputs": [
    {
     "name": "stdout",
     "output_type": "stream",
     "text": [
      "============================================================\n",
      "🎯 ANALISI DISTRIBUZIONE TARGET: AI_Prezzo_Ridistribuito\n",
      "============================================================\n",
      "\n",
      "📊 Info target:\n",
      "  Tipo: float64\n",
      "  Valori non-nulli: 5,733\n",
      "  Valori mancanti: 0 (0.00%)\n",
      "\n",
      "📈 Statistiche descrittive:\n",
      "  Conteggio: 5,733\n",
      "  Media: €62,591.59\n",
      "  Mediana: €42,000.00\n",
      "  Std Dev: €79,532.94\n",
      "  Min: €178.91\n",
      "  Max: €1,483,525.92\n",
      "\n",
      "🏷️  Fasce di prezzo (quantili):\n",
      "  Q00-Q20: €179 - €11,276\n",
      "  Q20-Q40: €11,276 - €27,500\n",
      "  Q40-Q60: €27,500 - €57,000\n",
      "  Q60-Q80: €57,000 - €95,000\n",
      "  Q80-Q100: €95,000 - €1,483,526\n",
      "\n",
      "💾 Statistiche target salvate in eda_outputs/target_statistics.csv\n"
     ]
    }
   ],
   "source": [
    "\n",
    "if target_col not in df_raw.columns:\n",
    "    print(f\"❌ Target '{target_col}' non trovato nelle colonne!\")\n",
    "    raise ValueError(f\"Target column '{target_col}' not found\")\n",
    "\n",
    "print(\"=\" * 60)\n",
    "print(f\"🎯 ANALISI DISTRIBUZIONE TARGET: {target_col}\")\n",
    "print(\"=\" * 60)\n",
    "\n",
    "print(f\"\\n📊 Info target:\")\n",
    "print(f\"  Tipo: {df_raw[target_col].dtype}\")\n",
    "print(f\"  Valori non-nulli: {df_raw[target_col].count():,}\")\n",
    "print(f\"  Valori mancanti: {df_raw[target_col].isnull().sum():,} ({df_raw[target_col].isnull().mean()*100:.2f}%)\")\n",
    "\n",
    "target_data = df_raw[target_col].dropna()\n",
    "stats = target_data.describe()\n",
    "\n",
    "print(f\"\\n📈 Statistiche descrittive:\")\n",
    "print(f\"  Conteggio: {stats['count']:,.0f}\")\n",
    "print(f\"  Media: €{stats['mean']:,.2f}\")\n",
    "print(f\"  Mediana: €{stats['50%']:,.2f}\")\n",
    "print(f\"  Std Dev: €{stats['std']:,.2f}\")\n",
    "print(f\"  Min: €{stats['min']:,.2f}\")\n",
    "print(f\"  Max: €{stats['max']:,.2f}\")\n",
    "\n",
    "# Calcola fasce di prezzo a quantili\n",
    "quantiles = [0, 0.2, 0.4, 0.6, 0.8, 1.0]\n",
    "price_bands = target_data.quantile(quantiles)\n",
    "\n",
    "print(f\"\\n🏷️  Fasce di prezzo (quantili):\")\n",
    "for i in range(len(quantiles)-1):\n",
    "    q_low = quantiles[i]\n",
    "    q_high = quantiles[i+1]\n",
    "    price_low = price_bands.iloc[i]\n",
    "    price_high = price_bands.iloc[i+1]\n",
    "    print(f\"  Q{int(q_low*100):02d}-Q{int(q_high*100):02d}: €{price_low:,.0f} - €{price_high:,.0f}\")\n",
    "\n",
    "# Salva statistiche target\n",
    "stats_df = pd.DataFrame(stats).reset_index()\n",
    "stats_df.columns = ['Statistic', 'Value']\n",
    "stats_df.to_csv(output_dir / 'target_statistics.csv', index=False)\n",
    "print(f\"\\n💾 Statistiche target salvate in {output_dir}/target_statistics.csv\")\n"
   ]
  },
  {
   "cell_type": "code",
   "execution_count": 7,
   "id": "d9e63caa",
   "metadata": {},
   "outputs": [
    {
     "data": {
      "image/png": "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",
      "text/plain": [
       "<Figure size 1500x1200 with 4 Axes>"
      ]
     },
     "metadata": {},
     "output_type": "display_data"
    }
   ],
   "source": [
    "\n",
    "# Grafici della distribuzione del target\n",
    "fig, axes = plt.subplots(2, 2, figsize=(15, 12))\n",
    "\n",
    "# 1. Istogramma\n",
    "axes[0,0].hist(target_data, bins=50, alpha=0.7, color='skyblue', edgecolor='black')\n",
    "axes[0,0].set_title('Distribuzione Target - Istogramma')\n",
    "axes[0,0].set_xlabel('Prezzo (€)')\n",
    "axes[0,0].set_ylabel('Frequenza')\n",
    "axes[0,0].grid(True, alpha=0.3)\n",
    "\n",
    "# 2. Box plot\n",
    "axes[0,1].boxplot(target_data, vert=False)\n",
    "axes[0,1].set_title('Distribuzione Target - Box Plot')\n",
    "axes[0,1].set_xlabel('Prezzo (€)')\n",
    "axes[0,1].grid(True, alpha=0.3)\n",
    "\n",
    "# 3. QQ Plot\n",
    "sample_size = min(5000, len(target_data))\n",
    "sample_data = target_data.sample(n=sample_size, random_state=42)\n",
    "scipy_stats.probplot(sample_data, dist=\"norm\", plot=axes[1,0])\n",
    "axes[1,0].set_title('Q-Q Plot (confronto con normale)')\n",
    "axes[1,0].grid(True, alpha=0.3)\n",
    "\n",
    "# 4. Quantili\n",
    "quantiles_viz = [0, 0.2, 0.4, 0.6, 0.8, 1.0]\n",
    "axes[1,1].hist(target_data, bins=20, alpha=0.7, color='lightcoral', edgecolor='black')\n",
    "for q in quantiles_viz[1:-1]:\n",
    "    price_q = target_data.quantile(q)\n",
    "    axes[1,1].axvline(price_q, color='red', linestyle='--', alpha=0.7)\n",
    "    axes[1,1].text(price_q, axes[1,1].get_ylim()[1]*0.9, f'Q{int(q*100)}',\n",
    "                   rotation=90, verticalalignment='top', fontweight='bold')\n",
    "axes[1,1].set_title('Distribuzione con Quantili')\n",
    "axes[1,1].set_xlabel('Prezzo (€)')\n",
    "axes[1,1].set_ylabel('Frequenza')\n",
    "axes[1,1].grid(True, alpha=0.3)\n",
    "\n",
    "plt.tight_layout()\n",
    "plt.show()\n"
   ]
  },
  {
   "cell_type": "code",
   "execution_count": 8,
   "id": "06f588d2",
   "metadata": {},
   "outputs": [
    {
     "data": {
      "image/png": "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",
      "text/plain": [
       "<Figure size 1500x1200 with 4 Axes>"
      ]
     },
     "metadata": {},
     "output_type": "display_data"
    },
    {
     "name": "stdout",
     "output_type": "stream",
     "text": [
      "\n",
      "📊 Statistiche target log-trasformato:\n",
      "  Media log: 10.3462\n",
      "  Mediana log: 10.6454\n",
      "  Std Dev log: 1.3798\n",
      "  Skewness log: -0.7695\n",
      "  Kurtosis log: 0.3213\n",
      "\n",
      "📊 Confronto normalità (Shapiro-Wilk test su campione):\n",
      "  P-value originale: 0.000000\n",
      "  P-value log-trasformato: 0.000000\n"
     ]
    }
   ],
   "source": [
    "# Grafici della distribuzione del target con trasformazione logaritmica\n",
    "target_log = np.log1p(target_data)\n",
    "\n",
    "fig, axes = plt.subplots(2, 2, figsize=(15, 12))\n",
    "\n",
    "# 1. Istogramma log-trasformato\n",
    "axes[0,0].hist(target_log, bins=50, alpha=0.7, color='lightgreen', edgecolor='black')\n",
    "axes[0,0].set_title('Distribuzione Target Log-Trasformato - Istogramma')\n",
    "axes[0,0].set_xlabel('Log(Prezzo)')\n",
    "axes[0,0].set_ylabel('Frequenza')\n",
    "axes[0,0].grid(True, alpha=0.3)\n",
    "\n",
    "# 2. Box plot log-trasformato\n",
    "axes[0,1].boxplot(target_log, vert=False)\n",
    "axes[0,1].set_title('Distribuzione Target Log-Trasformato - Box Plot')\n",
    "axes[0,1].set_xlabel('Log(Prezzo)')\n",
    "axes[0,1].grid(True, alpha=0.3)\n",
    "\n",
    "# 3. QQ Plot log-trasformato\n",
    "sample_log = target_log.sample(n=sample_size, random_state=42)\n",
    "scipy_stats.probplot(sample_log, dist=\"norm\", plot=axes[1,0])\n",
    "axes[1,0].set_title('Q-Q Plot Log-Trasformato (confronto con normale)')\n",
    "axes[1,0].grid(True, alpha=0.3)\n",
    "\n",
    "# 4. Distribuzione log-trasformata con quantili\n",
    "quantiles_viz = [0, 0.2, 0.4, 0.6, 0.8, 1.0]\n",
    "axes[1,1].hist(target_log, bins=30, alpha=0.7, color='lightgreen', edgecolor='black')\n",
    "for q in quantiles_viz[1:-1]:\n",
    "    price_q_log = target_log.quantile(q)\n",
    "    axes[1,1].axvline(price_q_log, color='red', linestyle='--', alpha=0.7)\n",
    "    axes[1,1].text(price_q_log, axes[1,1].get_ylim()[1]*0.9, f'Q{int(q*100)}',\n",
    "                   rotation=90, verticalalignment='top', fontweight='bold')\n",
    "axes[1,1].set_title('Distribuzione Log-Trasformata con Quantili')\n",
    "axes[1,1].set_xlabel('Log(Prezzo)')\n",
    "axes[1,1].set_ylabel('Frequenza')\n",
    "axes[1,1].grid(True, alpha=0.3)\n",
    "\n",
    "plt.tight_layout()\n",
    "plt.show()\n",
    "\n",
    "# Statistiche del target log-trasformato\n",
    "print(\"\\n📊 Statistiche target log-trasformato:\")\n",
    "print(f\"  Media log: {target_log.mean():.4f}\")\n",
    "print(f\"  Mediana log: {target_log.median():.4f}\")\n",
    "print(f\"  Std Dev log: {target_log.std():.4f}\")\n",
    "print(f\"  Skewness log: {scipy_stats.skew(target_log):.4f}\")\n",
    "print(f\"  Kurtosis log: {scipy_stats.kurtosis(target_log):.4f}\")\n",
    "\n",
    "print(f\"\\n📊 Confronto normalità (Shapiro-Wilk test su campione):\")\n",
    "_, p_orig = scipy_stats.shapiro(sample_data)\n",
    "_, p_log = scipy_stats.shapiro(sample_log)\n",
    "print(f\"  P-value originale: {p_orig:.6f}\")\n",
    "print(f\"  P-value log-trasformato: {p_log:.6f}\")"
   ]
  },
  {
   "cell_type": "code",
   "execution_count": 9,
   "id": "67e2fceb",
   "metadata": {},
   "outputs": [
    {
     "data": {
      "image/png": "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",
      "text/plain": [
       "<Figure size 1600x600 with 2 Axes>"
      ]
     },
     "metadata": {},
     "output_type": "display_data"
    },
    {
     "name": "stdout",
     "output_type": "stream",
     "text": [
      "============================================================\n",
      "📊 CONFRONTO DISTRIBUZIONI: NORMALE vs LOG-TRASFORMATA\n",
      "============================================================\n",
      "\n",
      "🔍 Distribuzione originale:\n",
      "  Skewness: 5.1591\n",
      "  Kurtosis: 54.1337\n",
      "  Media: €62,591.59\n",
      "  Mediana: €42,000.00\n",
      "  Rapporto Media/Mediana: 1.490\n",
      "\n",
      "📈 Distribuzione log-trasformata:\n",
      "  Skewness: -0.7695\n",
      "  Kurtosis: 0.3213\n",
      "  Media: 10.3462\n",
      "  Mediana: 10.6454\n",
      "  Rapporto Media/Mediana: 0.972\n",
      "\n",
      "✅ Miglioramento con trasformazione logaritmica:\n",
      "  Riduzione Skewness: 4.3896\n",
      "  La distribuzione log è più simmetrica\n"
     ]
    }
   ],
   "source": [
    "# Grafico comparativo: distribuzione normale vs log-trasformata\n",
    "fig, axes = plt.subplots(1, 2, figsize=(16, 6))\n",
    "\n",
    "# 1. Distribuzione normale\n",
    "axes[0].hist(target_data, bins=50, alpha=0.7, color='skyblue', edgecolor='black', density=True)\n",
    "axes[0].set_title('Distribuzione Normale del Target\\n(AI_Prezzo_Ridistribuito)', fontsize=14, fontweight='bold')\n",
    "axes[0].set_xlabel('Prezzo (€)', fontsize=12)\n",
    "axes[0].set_ylabel('Densità', fontsize=12)\n",
    "axes[0].grid(True, alpha=0.3)\n",
    "axes[0].ticklabel_format(style='scientific', axis='x', scilimits=(0,0))\n",
    "\n",
    "# Aggiungi statistiche sulla distribuzione normale\n",
    "mean_val = target_data.mean()\n",
    "median_val = target_data.median()\n",
    "axes[0].axvline(mean_val, color='red', linestyle='--', linewidth=2, label=f'Media: €{mean_val:,.0f}')\n",
    "axes[0].axvline(median_val, color='orange', linestyle='--', linewidth=2, label=f'Mediana: €{median_val:,.0f}')\n",
    "axes[0].legend()\n",
    "\n",
    "# 2. Distribuzione log-trasformata\n",
    "axes[1].hist(target_log, bins=50, alpha=0.7, color='lightgreen', edgecolor='black', density=True)\n",
    "axes[1].set_title('Distribuzione Log-Trasformata del Target\\n(log(AI_Prezzo_Ridistribuito))', fontsize=14, fontweight='bold')\n",
    "axes[1].set_xlabel('Log(Prezzo)', fontsize=12)\n",
    "axes[1].set_ylabel('Densità', fontsize=12)\n",
    "axes[1].grid(True, alpha=0.3)\n",
    "\n",
    "# Aggiungi statistiche sulla distribuzione log\n",
    "mean_log = target_log.mean()\n",
    "median_log = target_log.median()\n",
    "axes[1].axvline(mean_log, color='red', linestyle='--', linewidth=2, label=f'Media log: {mean_log:.3f}')\n",
    "axes[1].axvline(median_log, color='orange', linestyle='--', linewidth=2, label=f'Mediana log: {median_log:.3f}')\n",
    "axes[1].legend()\n",
    "\n",
    "# Aggiungi annotazioni con metriche di normalità\n",
    "skew_orig = scipy_stats.skew(target_data)\n",
    "skew_log = scipy_stats.skew(target_log)\n",
    "\n",
    "axes[0].text(0.02, 0.98, f'Skewness: {skew_orig:.3f}', transform=axes[0].transAxes, \n",
    "             verticalalignment='top', bbox=dict(boxstyle='round', facecolor='white', alpha=0.8))\n",
    "axes[1].text(0.02, 0.98, f'Skewness: {skew_log:.3f}', transform=axes[1].transAxes, \n",
    "             verticalalignment='top', bbox=dict(boxstyle='round', facecolor='white', alpha=0.8))\n",
    "\n",
    "plt.tight_layout()\n",
    "plt.show()\n",
    "\n",
    "# Stampa confronto delle statistiche\n",
    "print(\"=\" * 60)\n",
    "print(\"📊 CONFRONTO DISTRIBUZIONI: NORMALE vs LOG-TRASFORMATA\")\n",
    "print(\"=\" * 60)\n",
    "\n",
    "print(f\"\\n🔍 Distribuzione originale:\")\n",
    "print(f\"  Skewness: {skew_orig:.4f}\")\n",
    "print(f\"  Kurtosis: {scipy_stats.kurtosis(target_data):.4f}\")\n",
    "print(f\"  Media: €{target_data.mean():,.2f}\")\n",
    "print(f\"  Mediana: €{target_data.median():,.2f}\")\n",
    "print(f\"  Rapporto Media/Mediana: {target_data.mean()/target_data.median():.3f}\")\n",
    "\n",
    "print(f\"\\n📈 Distribuzione log-trasformata:\")\n",
    "print(f\"  Skewness: {skew_log:.4f}\")\n",
    "print(f\"  Kurtosis: {scipy_stats.kurtosis(target_log):.4f}\")\n",
    "print(f\"  Media: {target_log.mean():.4f}\")\n",
    "print(f\"  Mediana: {target_log.median():.4f}\")\n",
    "print(f\"  Rapporto Media/Mediana: {target_log.mean()/target_log.median():.3f}\")\n",
    "\n",
    "print(f\"\\n✅ Miglioramento con trasformazione logaritmica:\")\n",
    "print(f\"  Riduzione Skewness: {abs(skew_orig) - abs(skew_log):.4f}\")\n",
    "print(f\"  La distribuzione log è {'più simmetrica' if abs(skew_log) < abs(skew_orig) else 'meno simmetrica'}\")"
   ]
  },
  {
   "cell_type": "markdown",
   "id": "b1c4bdb8",
   "metadata": {},
   "source": [
    "## 5. Correlazioni con il Target"
   ]
  },
  {
   "cell_type": "code",
   "execution_count": 10,
   "id": "8b06148d",
   "metadata": {},
   "outputs": [
    {
     "name": "stdout",
     "output_type": "stream",
     "text": [
      "============================================================\n",
      "📊 ANALISI CORRELAZIONI CON AI_Prezzo_Ridistribuito\n",
      "============================================================\n",
      "\n",
      "🔢 Colonne numeriche identificate: 191\n",
      "⚠️  Colonne costanti identificate: 9\n",
      "  Colonne: ['AI_TipologiaEdiliziaAlternativaCoefficiente', 'ISC_CodReg', 'ISC_CodUts', 'ISC_ProCom', 'ISC_CodZic', 'OV_ValoreMercatoMin_scadente', 'OV_ValoreMercatoMax_scadente', 'OV_ValoreLocazioneMin_scadente', 'PC_PoligonoMetricoSrid']\n",
      "\n",
      "📈 Correlazioni significative (|r| >= 0.1): 109\n",
      "\n",
      "🔝 Top 15 correlazioni:\n"
     ]
    },
    {
     "data": {
      "application/vnd.microsoft.datawrangler.viewer.v0+json": {
       "columns": [
        {
         "name": "index",
         "rawType": "int64",
         "type": "integer"
        },
        {
         "name": "Colonna",
         "rawType": "object",
         "type": "string"
        },
        {
         "name": "Correlazione",
         "rawType": "float64",
         "type": "float"
        },
        {
         "name": "Correlazione_Assoluta",
         "rawType": "float64",
         "type": "float"
        }
       ],
       "ref": "05826c37-3d06-4994-bdf4-e11f21b643a4",
       "rows": [
        [
         "14",
         "AI_Rendita",
         "0.6798",
         "0.6798"
        ],
        [
         "18",
         "AI_SuperficieVisuraTotale",
         "0.6663",
         "0.6663"
        ],
        [
         "22",
         "AI_Superficie",
         "0.6663",
         "0.6663"
        ],
        [
         "19",
         "AI_SuperficieVisuraTotaleE",
         "0.6639",
         "0.6639"
        ],
        [
         "20",
         "AI_SuperficieVisuraTotaleAttuale",
         "0.6611",
         "0.6611"
        ],
        [
         "21",
         "AI_SuperficieVisuraTotaleEAttuale",
         "0.6578",
         "0.6578"
        ],
        [
         "16",
         "AI_SuperficieCalcolata",
         "0.6122",
         "0.6122"
        ],
        [
         "152",
         "OV_ValoreMercatoMin_normale",
         "0.3044",
         "0.3044"
        ],
        [
         "154",
         "OV_ValoreMercatoMax_normale",
         "0.3034",
         "0.3034"
        ],
        [
         "168",
         "POI_shopping_mall_count",
         "0.293",
         "0.293"
        ],
        [
         "155",
         "OV_ValoreMercatoMax_ottimo",
         "0.2823",
         "0.2823"
        ],
        [
         "109",
         "II_ST2_B",
         "-0.2764",
         "0.2764"
        ],
        [
         "118",
         "II_ST21",
         "-0.2752",
         "0.2752"
        ],
        [
         "126",
         "II_ST29",
         "-0.2743",
         "0.2743"
        ],
        [
         "112",
         "II_ST5",
         "-0.272",
         "0.272"
        ]
       ],
       "shape": {
        "columns": 3,
        "rows": 15
       }
      },
      "text/html": [
       "<div>\n",
       "<style scoped>\n",
       "    .dataframe tbody tr th:only-of-type {\n",
       "        vertical-align: middle;\n",
       "    }\n",
       "\n",
       "    .dataframe tbody tr th {\n",
       "        vertical-align: top;\n",
       "    }\n",
       "\n",
       "    .dataframe thead th {\n",
       "        text-align: right;\n",
       "    }\n",
       "</style>\n",
       "<table border=\"1\" class=\"dataframe\">\n",
       "  <thead>\n",
       "    <tr style=\"text-align: right;\">\n",
       "      <th></th>\n",
       "      <th>Colonna</th>\n",
       "      <th>Correlazione</th>\n",
       "      <th>Correlazione_Assoluta</th>\n",
       "    </tr>\n",
       "  </thead>\n",
       "  <tbody>\n",
       "    <tr>\n",
       "      <th>14</th>\n",
       "      <td>AI_Rendita</td>\n",
       "      <td>0.6798</td>\n",
       "      <td>0.6798</td>\n",
       "    </tr>\n",
       "    <tr>\n",
       "      <th>18</th>\n",
       "      <td>AI_SuperficieVisuraTotale</td>\n",
       "      <td>0.6663</td>\n",
       "      <td>0.6663</td>\n",
       "    </tr>\n",
       "    <tr>\n",
       "      <th>22</th>\n",
       "      <td>AI_Superficie</td>\n",
       "      <td>0.6663</td>\n",
       "      <td>0.6663</td>\n",
       "    </tr>\n",
       "    <tr>\n",
       "      <th>19</th>\n",
       "      <td>AI_SuperficieVisuraTotaleE</td>\n",
       "      <td>0.6639</td>\n",
       "      <td>0.6639</td>\n",
       "    </tr>\n",
       "    <tr>\n",
       "      <th>20</th>\n",
       "      <td>AI_SuperficieVisuraTotaleAttuale</td>\n",
       "      <td>0.6611</td>\n",
       "      <td>0.6611</td>\n",
       "    </tr>\n",
       "    <tr>\n",
       "      <th>21</th>\n",
       "      <td>AI_SuperficieVisuraTotaleEAttuale</td>\n",
       "      <td>0.6578</td>\n",
       "      <td>0.6578</td>\n",
       "    </tr>\n",
       "    <tr>\n",
       "      <th>16</th>\n",
       "      <td>AI_SuperficieCalcolata</td>\n",
       "      <td>0.6122</td>\n",
       "      <td>0.6122</td>\n",
       "    </tr>\n",
       "    <tr>\n",
       "      <th>152</th>\n",
       "      <td>OV_ValoreMercatoMin_normale</td>\n",
       "      <td>0.3044</td>\n",
       "      <td>0.3044</td>\n",
       "    </tr>\n",
       "    <tr>\n",
       "      <th>154</th>\n",
       "      <td>OV_ValoreMercatoMax_normale</td>\n",
       "      <td>0.3034</td>\n",
       "      <td>0.3034</td>\n",
       "    </tr>\n",
       "    <tr>\n",
       "      <th>168</th>\n",
       "      <td>POI_shopping_mall_count</td>\n",
       "      <td>0.2930</td>\n",
       "      <td>0.2930</td>\n",
       "    </tr>\n",
       "    <tr>\n",
       "      <th>155</th>\n",
       "      <td>OV_ValoreMercatoMax_ottimo</td>\n",
       "      <td>0.2823</td>\n",
       "      <td>0.2823</td>\n",
       "    </tr>\n",
       "    <tr>\n",
       "      <th>109</th>\n",
       "      <td>II_ST2_B</td>\n",
       "      <td>-0.2764</td>\n",
       "      <td>0.2764</td>\n",
       "    </tr>\n",
       "    <tr>\n",
       "      <th>118</th>\n",
       "      <td>II_ST21</td>\n",
       "      <td>-0.2752</td>\n",
       "      <td>0.2752</td>\n",
       "    </tr>\n",
       "    <tr>\n",
       "      <th>126</th>\n",
       "      <td>II_ST29</td>\n",
       "      <td>-0.2743</td>\n",
       "      <td>0.2743</td>\n",
       "    </tr>\n",
       "    <tr>\n",
       "      <th>112</th>\n",
       "      <td>II_ST5</td>\n",
       "      <td>-0.2720</td>\n",
       "      <td>0.2720</td>\n",
       "    </tr>\n",
       "  </tbody>\n",
       "</table>\n",
       "</div>"
      ],
      "text/plain": [
       "                               Colonna  Correlazione  Correlazione_Assoluta\n",
       "14                          AI_Rendita        0.6798                 0.6798\n",
       "18           AI_SuperficieVisuraTotale        0.6663                 0.6663\n",
       "22                       AI_Superficie        0.6663                 0.6663\n",
       "19          AI_SuperficieVisuraTotaleE        0.6639                 0.6639\n",
       "20    AI_SuperficieVisuraTotaleAttuale        0.6611                 0.6611\n",
       "21   AI_SuperficieVisuraTotaleEAttuale        0.6578                 0.6578\n",
       "16              AI_SuperficieCalcolata        0.6122                 0.6122\n",
       "152        OV_ValoreMercatoMin_normale        0.3044                 0.3044\n",
       "154        OV_ValoreMercatoMax_normale        0.3034                 0.3034\n",
       "168            POI_shopping_mall_count        0.2930                 0.2930\n",
       "155         OV_ValoreMercatoMax_ottimo        0.2823                 0.2823\n",
       "109                           II_ST2_B       -0.2764                 0.2764\n",
       "118                            II_ST21       -0.2752                 0.2752\n",
       "126                            II_ST29       -0.2743                 0.2743\n",
       "112                             II_ST5       -0.2720                 0.2720"
      ]
     },
     "metadata": {},
     "output_type": "display_data"
    },
    {
     "name": "stdout",
     "output_type": "stream",
     "text": [
      "\n",
      "📊 Statistiche correlazioni:\n",
      "  Max correlazione positiva: 0.6798\n",
      "  Max correlazione negativa: -0.2764\n",
      "  Media correlazione assoluta: 0.1487\n",
      "\n",
      "💾 Correlazioni salvate in eda_outputs/correlations_with_target.csv\n"
     ]
    }
   ],
   "source": [
    "\n",
    "print(\"=\" * 60)\n",
    "print(f\"📊 ANALISI CORRELAZIONI CON {target_col}\")\n",
    "print(\"=\" * 60)\n",
    "\n",
    "# Identifica colonne numeriche escludendo il target\n",
    "numeric_cols = df_raw.select_dtypes(include=[np.number]).columns.tolist()\n",
    "if target_col in numeric_cols:\n",
    "    numeric_cols.remove(target_col)\n",
    "\n",
    "print(f\"\\n🔢 Colonne numeriche identificate: {len(numeric_cols)}\")\n",
    "\n",
    "# Identifica colonne costanti\n",
    "constant_cols = [col for col in numeric_cols if df_raw[col].nunique() <= 1]\n",
    "print(f\"⚠️  Colonne costanti identificate: {len(constant_cols)}\")\n",
    "if constant_cols:\n",
    "    print(\"  Colonne:\", constant_cols[:10])\n",
    "\n",
    "# Rimuovi colonne costanti\n",
    "analysis_cols = [c for c in numeric_cols if c not in constant_cols]\n",
    "\n",
    "corr_data = df_raw[analysis_cols + [target_col]].dropna()\n",
    "if len(corr_data) == 0:\n",
    "    print(\"❌ Nessun dato valido per correlazioni\")\n",
    "else:\n",
    "    correlations = corr_data.corr(numeric_only=True)[target_col].drop(target_col)\n",
    "\n",
    "    corr_df = pd.DataFrame({\n",
    "        'Colonna': correlations.index,\n",
    "        'Correlazione': correlations.values,\n",
    "        'Correlazione_Assoluta': np.abs(correlations.values)\n",
    "    }).round(4).sort_values('Correlazione_Assoluta', ascending=False)\n",
    "\n",
    "    threshold = 0.1\n",
    "    significant_corr = corr_df[corr_df['Correlazione_Assoluta'] >= threshold]\n",
    "    print(f\"\\n📈 Correlazioni significative (|r| >= {threshold}): {len(significant_corr)}\")\n",
    "    if len(significant_corr) > 0:\n",
    "        print(\"\\n🔝 Top 15 correlazioni:\")\n",
    "        display(significant_corr.head(15))\n",
    "\n",
    "    print(f\"\\n📊 Statistiche correlazioni:\")\n",
    "    print(f\"  Max correlazione positiva: {corr_df['Correlazione'].max():.4f}\")\n",
    "    print(f\"  Max correlazione negativa: {corr_df['Correlazione'].min():.4f}\")\n",
    "    print(f\"  Media correlazione assoluta: {corr_df['Correlazione_Assoluta'].mean():.4f}\")\n",
    "\n",
    "    # Salva risultati\n",
    "    corr_df.to_csv(output_dir / 'correlations_with_target.csv', index=False)\n",
    "    print(f\"\\n💾 Correlazioni salvate in {output_dir}/correlations_with_target.csv\")\n"
   ]
  },
  {
   "cell_type": "markdown",
   "id": "7340f710",
   "metadata": {},
   "source": [
    "## 6. Summary per Gruppi"
   ]
  },
  {
   "cell_type": "code",
   "execution_count": 11,
   "id": "a4955662",
   "metadata": {},
   "outputs": [
    {
     "name": "stdout",
     "output_type": "stream",
     "text": [
      "============================================================\n",
      "👥 ANALISI SUMMARY PER GRUPPI\n",
      "============================================================\n",
      "✅ Colonne di grouping trovate: ['AI_ZonaOmi', 'AI_IdCategoriaCatastale']\n",
      "\n",
      "📊 Summary per gruppo: AI_ZonaOmi\n",
      "--------------------------------------------------\n",
      "Gruppi trovati: 13\n",
      "\n",
      "🔝 Top 15 gruppi per dimensione:\n"
     ]
    },
    {
     "data": {
      "application/vnd.microsoft.datawrangler.viewer.v0+json": {
       "columns": [
        {
         "name": "AI_ZonaOmi",
         "rawType": "object",
         "type": "string"
        },
        {
         "name": "count",
         "rawType": "int64",
         "type": "integer"
        },
        {
         "name": "mean",
         "rawType": "float64",
         "type": "float"
        },
        {
         "name": "median",
         "rawType": "float64",
         "type": "float"
        },
        {
         "name": "std",
         "rawType": "float64",
         "type": "float"
        },
        {
         "name": "min",
         "rawType": "float64",
         "type": "float"
        },
        {
         "name": "max",
         "rawType": "float64",
         "type": "float"
        },
        {
         "name": "cv",
         "rawType": "float64",
         "type": "float"
        }
       ],
       "ref": "dfa0ee42-bcf3-4013-80d4-cbca88528636",
       "rows": [
        [
         "B1",
         "1797",
         "86726.63",
         "59602.12",
         "106323.48",
         "360.0",
         "1483525.92",
         "122.6"
        ],
        [
         "C4",
         "1105",
         "50457.14",
         "44973.98",
         "47145.67",
         "178.91",
         "322540.22",
         "93.44"
        ],
        [
         "D2",
         "718",
         "75141.68",
         "48676.59",
         "94237.08",
         "270.18",
         "1311003.46",
         "125.41"
        ],
        [
         "D1",
         "553",
         "36768.35",
         "25000.0",
         "34577.05",
         "395.73",
         "254750.98",
         "94.04"
        ],
        [
         "C2",
         "386",
         "38052.38",
         "17930.3",
         "37424.8",
         "244.65",
         "181589.96",
         "98.35"
        ],
        [
         "D3",
         "355",
         "37161.46",
         "25000.0",
         "40252.68",
         "315.79",
         "326163.87",
         "108.32"
        ],
        [
         "C5",
         "281",
         "46530.6",
         "45000.0",
         "37515.73",
         "1038.21",
         "327262.96",
         "80.63"
        ],
        [
         "C3",
         "177",
         "41941.21",
         "36012.1",
         "39445.76",
         "626.68",
         "211760.0",
         "94.05"
        ],
        [
         "C6",
         "157",
         "74333.33",
         "36741.92",
         "98808.31",
         "1033.08",
         "582203.7",
         "132.93"
        ],
        [
         "E3",
         "59",
         "86365.49",
         "36537.0",
         "79293.93",
         "6462.79",
         "274431.22",
         "91.81"
        ],
        [
         "E2",
         "49",
         "55730.37",
         "33500.0",
         "54452.91",
         "6846.85",
         "221332.65",
         "97.71"
        ],
        [
         "E1",
         "37",
         "51578.38",
         "18504.75",
         "54742.5",
         "1267.46",
         "204289.22",
         "106.13"
        ],
        [
         "R1",
         "8",
         "61550.88",
         "26250.0",
         "81236.52",
         "5891.27",
         "250000.0",
         "131.98"
        ]
       ],
       "shape": {
        "columns": 7,
        "rows": 13
       }
      },
      "text/html": [
       "<div>\n",
       "<style scoped>\n",
       "    .dataframe tbody tr th:only-of-type {\n",
       "        vertical-align: middle;\n",
       "    }\n",
       "\n",
       "    .dataframe tbody tr th {\n",
       "        vertical-align: top;\n",
       "    }\n",
       "\n",
       "    .dataframe thead th {\n",
       "        text-align: right;\n",
       "    }\n",
       "</style>\n",
       "<table border=\"1\" class=\"dataframe\">\n",
       "  <thead>\n",
       "    <tr style=\"text-align: right;\">\n",
       "      <th></th>\n",
       "      <th>count</th>\n",
       "      <th>mean</th>\n",
       "      <th>median</th>\n",
       "      <th>std</th>\n",
       "      <th>min</th>\n",
       "      <th>max</th>\n",
       "      <th>cv</th>\n",
       "    </tr>\n",
       "    <tr>\n",
       "      <th>AI_ZonaOmi</th>\n",
       "      <th></th>\n",
       "      <th></th>\n",
       "      <th></th>\n",
       "      <th></th>\n",
       "      <th></th>\n",
       "      <th></th>\n",
       "      <th></th>\n",
       "    </tr>\n",
       "  </thead>\n",
       "  <tbody>\n",
       "    <tr>\n",
       "      <th>B1</th>\n",
       "      <td>1797</td>\n",
       "      <td>86726.63</td>\n",
       "      <td>59602.12</td>\n",
       "      <td>106323.48</td>\n",
       "      <td>360.00</td>\n",
       "      <td>1483525.92</td>\n",
       "      <td>122.60</td>\n",
       "    </tr>\n",
       "    <tr>\n",
       "      <th>C4</th>\n",
       "      <td>1105</td>\n",
       "      <td>50457.14</td>\n",
       "      <td>44973.98</td>\n",
       "      <td>47145.67</td>\n",
       "      <td>178.91</td>\n",
       "      <td>322540.22</td>\n",
       "      <td>93.44</td>\n",
       "    </tr>\n",
       "    <tr>\n",
       "      <th>D2</th>\n",
       "      <td>718</td>\n",
       "      <td>75141.68</td>\n",
       "      <td>48676.59</td>\n",
       "      <td>94237.08</td>\n",
       "      <td>270.18</td>\n",
       "      <td>1311003.46</td>\n",
       "      <td>125.41</td>\n",
       "    </tr>\n",
       "    <tr>\n",
       "      <th>D1</th>\n",
       "      <td>553</td>\n",
       "      <td>36768.35</td>\n",
       "      <td>25000.00</td>\n",
       "      <td>34577.05</td>\n",
       "      <td>395.73</td>\n",
       "      <td>254750.98</td>\n",
       "      <td>94.04</td>\n",
       "    </tr>\n",
       "    <tr>\n",
       "      <th>C2</th>\n",
       "      <td>386</td>\n",
       "      <td>38052.38</td>\n",
       "      <td>17930.30</td>\n",
       "      <td>37424.80</td>\n",
       "      <td>244.65</td>\n",
       "      <td>181589.96</td>\n",
       "      <td>98.35</td>\n",
       "    </tr>\n",
       "    <tr>\n",
       "      <th>D3</th>\n",
       "      <td>355</td>\n",
       "      <td>37161.46</td>\n",
       "      <td>25000.00</td>\n",
       "      <td>40252.68</td>\n",
       "      <td>315.79</td>\n",
       "      <td>326163.87</td>\n",
       "      <td>108.32</td>\n",
       "    </tr>\n",
       "    <tr>\n",
       "      <th>C5</th>\n",
       "      <td>281</td>\n",
       "      <td>46530.60</td>\n",
       "      <td>45000.00</td>\n",
       "      <td>37515.73</td>\n",
       "      <td>1038.21</td>\n",
       "      <td>327262.96</td>\n",
       "      <td>80.63</td>\n",
       "    </tr>\n",
       "    <tr>\n",
       "      <th>C3</th>\n",
       "      <td>177</td>\n",
       "      <td>41941.21</td>\n",
       "      <td>36012.10</td>\n",
       "      <td>39445.76</td>\n",
       "      <td>626.68</td>\n",
       "      <td>211760.00</td>\n",
       "      <td>94.05</td>\n",
       "    </tr>\n",
       "    <tr>\n",
       "      <th>C6</th>\n",
       "      <td>157</td>\n",
       "      <td>74333.33</td>\n",
       "      <td>36741.92</td>\n",
       "      <td>98808.31</td>\n",
       "      <td>1033.08</td>\n",
       "      <td>582203.70</td>\n",
       "      <td>132.93</td>\n",
       "    </tr>\n",
       "    <tr>\n",
       "      <th>E3</th>\n",
       "      <td>59</td>\n",
       "      <td>86365.49</td>\n",
       "      <td>36537.00</td>\n",
       "      <td>79293.93</td>\n",
       "      <td>6462.79</td>\n",
       "      <td>274431.22</td>\n",
       "      <td>91.81</td>\n",
       "    </tr>\n",
       "    <tr>\n",
       "      <th>E2</th>\n",
       "      <td>49</td>\n",
       "      <td>55730.37</td>\n",
       "      <td>33500.00</td>\n",
       "      <td>54452.91</td>\n",
       "      <td>6846.85</td>\n",
       "      <td>221332.65</td>\n",
       "      <td>97.71</td>\n",
       "    </tr>\n",
       "    <tr>\n",
       "      <th>E1</th>\n",
       "      <td>37</td>\n",
       "      <td>51578.38</td>\n",
       "      <td>18504.75</td>\n",
       "      <td>54742.50</td>\n",
       "      <td>1267.46</td>\n",
       "      <td>204289.22</td>\n",
       "      <td>106.13</td>\n",
       "    </tr>\n",
       "    <tr>\n",
       "      <th>R1</th>\n",
       "      <td>8</td>\n",
       "      <td>61550.88</td>\n",
       "      <td>26250.00</td>\n",
       "      <td>81236.52</td>\n",
       "      <td>5891.27</td>\n",
       "      <td>250000.00</td>\n",
       "      <td>131.98</td>\n",
       "    </tr>\n",
       "  </tbody>\n",
       "</table>\n",
       "</div>"
      ],
      "text/plain": [
       "            count      mean    median        std      min         max      cv\n",
       "AI_ZonaOmi                                                                   \n",
       "B1           1797  86726.63  59602.12  106323.48   360.00  1483525.92  122.60\n",
       "C4           1105  50457.14  44973.98   47145.67   178.91   322540.22   93.44\n",
       "D2            718  75141.68  48676.59   94237.08   270.18  1311003.46  125.41\n",
       "D1            553  36768.35  25000.00   34577.05   395.73   254750.98   94.04\n",
       "C2            386  38052.38  17930.30   37424.80   244.65   181589.96   98.35\n",
       "D3            355  37161.46  25000.00   40252.68   315.79   326163.87  108.32\n",
       "C5            281  46530.60  45000.00   37515.73  1038.21   327262.96   80.63\n",
       "C3            177  41941.21  36012.10   39445.76   626.68   211760.00   94.05\n",
       "C6            157  74333.33  36741.92   98808.31  1033.08   582203.70  132.93\n",
       "E3             59  86365.49  36537.00   79293.93  6462.79   274431.22   91.81\n",
       "E2             49  55730.37  33500.00   54452.91  6846.85   221332.65   97.71\n",
       "E1             37  51578.38  18504.75   54742.50  1267.46   204289.22  106.13\n",
       "R1              8  61550.88  26250.00   81236.52  5891.27   250000.00  131.98"
      ]
     },
     "metadata": {},
     "output_type": "display_data"
    },
    {
     "name": "stdout",
     "output_type": "stream",
     "text": [
      "💾 Salvato: eda_outputs\\group_summary_AI_ZonaOmi.csv\n",
      "\n",
      "📊 Summary per gruppo: AI_IdCategoriaCatastale\n",
      "--------------------------------------------------\n",
      "Gruppi trovati: 10\n",
      "\n",
      "🔝 Top 15 gruppi per dimensione:\n"
     ]
    },
    {
     "data": {
      "application/vnd.microsoft.datawrangler.viewer.v0+json": {
       "columns": [
        {
         "name": "AI_IdCategoriaCatastale",
         "rawType": "object",
         "type": "string"
        },
        {
         "name": "count",
         "rawType": "int64",
         "type": "integer"
        },
        {
         "name": "mean",
         "rawType": "float64",
         "type": "float"
        },
        {
         "name": "median",
         "rawType": "float64",
         "type": "float"
        },
        {
         "name": "std",
         "rawType": "float64",
         "type": "float"
        },
        {
         "name": "min",
         "rawType": "float64",
         "type": "float"
        },
        {
         "name": "max",
         "rawType": "float64",
         "type": "float"
        },
        {
         "name": "cv",
         "rawType": "float64",
         "type": "float"
        }
       ],
       "ref": "4857e4ee-c7e3-4ff5-b300-c854a2db7361",
       "rows": [
        [
         "00275",
         "1812",
         "20650.14",
         "15786.84",
         "18370.88",
         "270.18",
         "229534.88",
         "88.96"
        ],
        [
         "00020",
         "1789",
         "113673.26",
         "90000.0",
         "88421.26",
         "5330.0",
         "1483525.92",
         "77.79"
        ],
        [
         "00030",
         "1131",
         "66941.83",
         "58000.0",
         "55453.83",
         "2966.03",
         "1311003.46",
         "82.84"
        ],
        [
         "00210",
         "651",
         "8067.45",
         "2595.74",
         "21313.82",
         "178.91",
         "260065.45",
         "264.2"
        ],
        [
         "00200",
         "151",
         "90608.35",
         "45000.0",
         "143103.32",
         "384.23",
         "1060000.0",
         "157.94"
        ],
        [
         "00100",
         "95",
         "143985.88",
         "79850.62",
         "179212.73",
         "1200.0",
         "1100000.0",
         "124.47"
        ],
        [
         "00040",
         "58",
         "45133.06",
         "39800.0",
         "28521.14",
         "8470.59",
         "160000.0",
         "63.19"
        ],
        [
         "00070",
         "41",
         "149706.13",
         "145511.75",
         "66934.26",
         "43889.32",
         "326163.87",
         "44.71"
        ],
        [
         "00050",
         "4",
         "22358.22",
         "21094.11",
         "24591.93",
         "244.65",
         "47000.0",
         "109.99"
        ],
        [
         "00010",
         "1",
         "889313.48",
         "889313.48",
         null,
         "889313.48",
         "889313.48",
         null
        ]
       ],
       "shape": {
        "columns": 7,
        "rows": 10
       }
      },
      "text/html": [
       "<div>\n",
       "<style scoped>\n",
       "    .dataframe tbody tr th:only-of-type {\n",
       "        vertical-align: middle;\n",
       "    }\n",
       "\n",
       "    .dataframe tbody tr th {\n",
       "        vertical-align: top;\n",
       "    }\n",
       "\n",
       "    .dataframe thead th {\n",
       "        text-align: right;\n",
       "    }\n",
       "</style>\n",
       "<table border=\"1\" class=\"dataframe\">\n",
       "  <thead>\n",
       "    <tr style=\"text-align: right;\">\n",
       "      <th></th>\n",
       "      <th>count</th>\n",
       "      <th>mean</th>\n",
       "      <th>median</th>\n",
       "      <th>std</th>\n",
       "      <th>min</th>\n",
       "      <th>max</th>\n",
       "      <th>cv</th>\n",
       "    </tr>\n",
       "    <tr>\n",
       "      <th>AI_IdCategoriaCatastale</th>\n",
       "      <th></th>\n",
       "      <th></th>\n",
       "      <th></th>\n",
       "      <th></th>\n",
       "      <th></th>\n",
       "      <th></th>\n",
       "      <th></th>\n",
       "    </tr>\n",
       "  </thead>\n",
       "  <tbody>\n",
       "    <tr>\n",
       "      <th>00275</th>\n",
       "      <td>1812</td>\n",
       "      <td>20650.14</td>\n",
       "      <td>15786.84</td>\n",
       "      <td>18370.88</td>\n",
       "      <td>270.18</td>\n",
       "      <td>229534.88</td>\n",
       "      <td>88.96</td>\n",
       "    </tr>\n",
       "    <tr>\n",
       "      <th>00020</th>\n",
       "      <td>1789</td>\n",
       "      <td>113673.26</td>\n",
       "      <td>90000.00</td>\n",
       "      <td>88421.26</td>\n",
       "      <td>5330.00</td>\n",
       "      <td>1483525.92</td>\n",
       "      <td>77.79</td>\n",
       "    </tr>\n",
       "    <tr>\n",
       "      <th>00030</th>\n",
       "      <td>1131</td>\n",
       "      <td>66941.83</td>\n",
       "      <td>58000.00</td>\n",
       "      <td>55453.83</td>\n",
       "      <td>2966.03</td>\n",
       "      <td>1311003.46</td>\n",
       "      <td>82.84</td>\n",
       "    </tr>\n",
       "    <tr>\n",
       "      <th>00210</th>\n",
       "      <td>651</td>\n",
       "      <td>8067.45</td>\n",
       "      <td>2595.74</td>\n",
       "      <td>21313.82</td>\n",
       "      <td>178.91</td>\n",
       "      <td>260065.45</td>\n",
       "      <td>264.20</td>\n",
       "    </tr>\n",
       "    <tr>\n",
       "      <th>00200</th>\n",
       "      <td>151</td>\n",
       "      <td>90608.35</td>\n",
       "      <td>45000.00</td>\n",
       "      <td>143103.32</td>\n",
       "      <td>384.23</td>\n",
       "      <td>1060000.00</td>\n",
       "      <td>157.94</td>\n",
       "    </tr>\n",
       "    <tr>\n",
       "      <th>00100</th>\n",
       "      <td>95</td>\n",
       "      <td>143985.88</td>\n",
       "      <td>79850.62</td>\n",
       "      <td>179212.73</td>\n",
       "      <td>1200.00</td>\n",
       "      <td>1100000.00</td>\n",
       "      <td>124.47</td>\n",
       "    </tr>\n",
       "    <tr>\n",
       "      <th>00040</th>\n",
       "      <td>58</td>\n",
       "      <td>45133.06</td>\n",
       "      <td>39800.00</td>\n",
       "      <td>28521.14</td>\n",
       "      <td>8470.59</td>\n",
       "      <td>160000.00</td>\n",
       "      <td>63.19</td>\n",
       "    </tr>\n",
       "    <tr>\n",
       "      <th>00070</th>\n",
       "      <td>41</td>\n",
       "      <td>149706.13</td>\n",
       "      <td>145511.75</td>\n",
       "      <td>66934.26</td>\n",
       "      <td>43889.32</td>\n",
       "      <td>326163.87</td>\n",
       "      <td>44.71</td>\n",
       "    </tr>\n",
       "    <tr>\n",
       "      <th>00050</th>\n",
       "      <td>4</td>\n",
       "      <td>22358.22</td>\n",
       "      <td>21094.11</td>\n",
       "      <td>24591.93</td>\n",
       "      <td>244.65</td>\n",
       "      <td>47000.00</td>\n",
       "      <td>109.99</td>\n",
       "    </tr>\n",
       "    <tr>\n",
       "      <th>00010</th>\n",
       "      <td>1</td>\n",
       "      <td>889313.48</td>\n",
       "      <td>889313.48</td>\n",
       "      <td>NaN</td>\n",
       "      <td>889313.48</td>\n",
       "      <td>889313.48</td>\n",
       "      <td>NaN</td>\n",
       "    </tr>\n",
       "  </tbody>\n",
       "</table>\n",
       "</div>"
      ],
      "text/plain": [
       "                         count       mean     median        std        min  \\\n",
       "AI_IdCategoriaCatastale                                                      \n",
       "00275                     1812   20650.14   15786.84   18370.88     270.18   \n",
       "00020                     1789  113673.26   90000.00   88421.26    5330.00   \n",
       "00030                     1131   66941.83   58000.00   55453.83    2966.03   \n",
       "00210                      651    8067.45    2595.74   21313.82     178.91   \n",
       "00200                      151   90608.35   45000.00  143103.32     384.23   \n",
       "00100                       95  143985.88   79850.62  179212.73    1200.00   \n",
       "00040                       58   45133.06   39800.00   28521.14    8470.59   \n",
       "00070                       41  149706.13  145511.75   66934.26   43889.32   \n",
       "00050                        4   22358.22   21094.11   24591.93     244.65   \n",
       "00010                        1  889313.48  889313.48        NaN  889313.48   \n",
       "\n",
       "                                max      cv  \n",
       "AI_IdCategoriaCatastale                      \n",
       "00275                     229534.88   88.96  \n",
       "00020                    1483525.92   77.79  \n",
       "00030                    1311003.46   82.84  \n",
       "00210                     260065.45  264.20  \n",
       "00200                    1060000.00  157.94  \n",
       "00100                    1100000.00  124.47  \n",
       "00040                     160000.00   63.19  \n",
       "00070                     326163.87   44.71  \n",
       "00050                      47000.00  109.99  \n",
       "00010                     889313.48     NaN  "
      ]
     },
     "metadata": {},
     "output_type": "display_data"
    },
    {
     "name": "stdout",
     "output_type": "stream",
     "text": [
      "💾 Salvato: eda_outputs\\group_summary_AI_IdCategoriaCatastale.csv\n"
     ]
    }
   ],
   "source": [
    "\n",
    "print(\"=\" * 60)\n",
    "print(\"👥 ANALISI SUMMARY PER GRUPPI\")\n",
    "print(\"=\" * 60)\n",
    "\n",
    "group_cols = ['AI_ZonaOmi', 'AI_IdCategoriaCatastale']\n",
    "\n",
    "# Verifica che le colonne esistano\n",
    "missing_group_cols = [col for col in group_cols if col not in df_raw.columns]\n",
    "if missing_group_cols:\n",
    "    print(f\"❌ Colonne di grouping mancanti: {missing_group_cols}\")\n",
    "    print(f\"🔍 Colonne disponibili con 'AI_': {[c for c in df_raw.columns if 'AI_' in c][:10]}\")\n",
    "else:\n",
    "    print(f\"✅ Colonne di grouping trovate: {group_cols}\")\n",
    "\n",
    "group_summaries = {}\n",
    "\n",
    "for group_col in group_cols:\n",
    "    if group_col in df_raw.columns:\n",
    "        print(f\"\\n📊 Summary per gruppo: {group_col}\")\n",
    "        print(\"-\" * 50)\n",
    "\n",
    "        valid_data = df_raw[[group_col, target_col]].dropna()\n",
    "        if len(valid_data) == 0:\n",
    "            print(f\"❌ Nessun dato valido per {group_col}\")\n",
    "            continue\n",
    "\n",
    "        group_stats = valid_data.groupby(group_col)[target_col].agg([\n",
    "            'count', 'mean', 'median', 'std', 'min', 'max'\n",
    "        ]).round(2)\n",
    "\n",
    "        group_stats = group_stats.sort_values('count', ascending=False)\n",
    "        group_stats['cv'] = (group_stats['std'] / group_stats['mean'] * 100).round(2)\n",
    "\n",
    "        print(f\"Gruppi trovati: {len(group_stats)}\")\n",
    "        print(f\"\\n🔝 Top 15 gruppi per dimensione:\")\n",
    "        display(group_stats.head(15))\n",
    "\n",
    "        group_summaries[group_col] = group_stats\n",
    "        \n",
    "        # Salva su CSV\n",
    "        output_file = output_dir / f'group_summary_{group_col}.csv'\n",
    "        group_stats.to_csv(output_file)\n",
    "        print(f\"💾 Salvato: {output_file}\")\n",
    "    else:\n",
    "        print(f\"⚠️  Colonna {group_col} non trovata, skip\")\n"
   ]
  },
  {
   "cell_type": "markdown",
   "id": "8703f31b",
   "metadata": {},
   "source": [
    "## 7. Check Geospaziale"
   ]
  },
  {
   "cell_type": "code",
   "execution_count": 12,
   "id": "70458920",
   "metadata": {},
   "outputs": [
    {
     "name": "stdout",
     "output_type": "stream",
     "text": [
      "============================================================\n",
      "🗺️  CHECK GEOSPAZIALE RAPIDO\n",
      "============================================================\n",
      "\n",
      "🗺️  Colonne candidate geospaziali: 15\n"
     ]
    },
    {
     "data": {
      "application/vnd.microsoft.datawrangler.viewer.v0+json": {
       "columns": [
        {
         "name": "index",
         "rawType": "int64",
         "type": "integer"
        },
        {
         "name": "Colonna",
         "rawType": "object",
         "type": "string"
        },
        {
         "name": "Tipo",
         "rawType": "object",
         "type": "string"
        },
        {
         "name": "Pattern",
         "rawType": "object",
         "type": "string"
        },
        {
         "name": "NonNull_Count",
         "rawType": "int64",
         "type": "integer"
        },
        {
         "name": "Esempi",
         "rawType": "object",
         "type": "string"
        }
       ],
       "ref": "5f41b658-23b7-4bae-a91b-519086f13859",
       "rows": [
        [
         "0",
         "AI_Latitudine",
         "float64",
         "lat",
         "5733",
         "[45.149932861328125, 45.149932861328125, 45.1503481]"
        ],
        [
         "1",
         "AI_Longitudine",
         "float64",
         "lon",
         "5733",
         "[10.783458709716797, 10.783458709716797, 10.7645318]"
        ],
        [
         "2",
         "AI_Posizione",
         "object",
         "posizione",
         "5733",
         "['POINT (10.7835 45.1499)', 'POINT (10.7835 45.1499)', 'POINT (10.7645318 45.1503481)']"
        ],
        [
         "3",
         "AI_SuperficieCalcolata",
         "float64",
         "lat",
         "5730",
         "[12.0, 128.0, 18.0]"
        ],
        [
         "4",
         "ISC_Geometry",
         "object",
         "geometry",
         "5733",
         "['MULTIPOLYGON (((10.783887942194134 45.150017769836687, 10.783915607638837 45.149583863996654, 10.7"
        ],
        [
         "5",
         "ISC_ShapeLeng",
         "float64",
         "shape",
         "5733",
         "[577.102281765, 577.102281765, 3178.32180066]"
        ],
        [
         "6",
         "ISC_ShapeArea",
         "float64",
         "shape",
         "5733",
         "[11747.5895737, 11747.5895737, 177693.4543]"
        ],
        [
         "7",
         "OV_ValoreMercatoMax_normale",
         "float64",
         "x_",
         "5733",
         "[262.5, 1050.0, 950.0]"
        ],
        [
         "8",
         "OV_ValoreMercatoMax_ottimo",
         "float64",
         "x_",
         "2280",
         "[425.0, 1700.0, 1500.0]"
        ],
        [
         "9",
         "OV_ValoreMercatoMax_scadente",
         "float64",
         "x_",
         "385",
         "[750.0, 750.0, 750.0]"
        ],
        [
         "10",
         "OV_ValoreLocazioneMax_normale",
         "float64",
         "x_",
         "5082",
         "[7.3, 4.5, 5.5]"
        ],
        [
         "11",
         "OV_ValoreLocazioneMax_ottimo",
         "float64",
         "x_",
         "1724",
         "[7.5, 6.5, 7.0]"
        ],
        [
         "12",
         "PC_PoligonoGeoJson",
         "object",
         "geojson",
         "5733",
         "['{\"type\": \"FeatureCollection\", \"features\": [{\"type\": \"Feature\", \"geometry\": {\"crs\": {\"type\": \"name\""
        ],
        [
         "13",
         "POI_pharmacy_count",
         "int64",
         "y_",
         "5733",
         "[1, 1, 1]"
        ],
        [
         "14",
         "POI_university_count",
         "int64",
         "y_",
         "5733",
         "[1, 1, 2]"
        ]
       ],
       "shape": {
        "columns": 5,
        "rows": 15
       }
      },
      "text/html": [
       "<div>\n",
       "<style scoped>\n",
       "    .dataframe tbody tr th:only-of-type {\n",
       "        vertical-align: middle;\n",
       "    }\n",
       "\n",
       "    .dataframe tbody tr th {\n",
       "        vertical-align: top;\n",
       "    }\n",
       "\n",
       "    .dataframe thead th {\n",
       "        text-align: right;\n",
       "    }\n",
       "</style>\n",
       "<table border=\"1\" class=\"dataframe\">\n",
       "  <thead>\n",
       "    <tr style=\"text-align: right;\">\n",
       "      <th></th>\n",
       "      <th>Colonna</th>\n",
       "      <th>Tipo</th>\n",
       "      <th>Pattern</th>\n",
       "      <th>NonNull_Count</th>\n",
       "      <th>Esempi</th>\n",
       "    </tr>\n",
       "  </thead>\n",
       "  <tbody>\n",
       "    <tr>\n",
       "      <th>0</th>\n",
       "      <td>AI_Latitudine</td>\n",
       "      <td>float64</td>\n",
       "      <td>lat</td>\n",
       "      <td>5733</td>\n",
       "      <td>[45.149932861328125, 45.149932861328125, 45.15...</td>\n",
       "    </tr>\n",
       "    <tr>\n",
       "      <th>1</th>\n",
       "      <td>AI_Longitudine</td>\n",
       "      <td>float64</td>\n",
       "      <td>lon</td>\n",
       "      <td>5733</td>\n",
       "      <td>[10.783458709716797, 10.783458709716797, 10.76...</td>\n",
       "    </tr>\n",
       "    <tr>\n",
       "      <th>2</th>\n",
       "      <td>AI_Posizione</td>\n",
       "      <td>object</td>\n",
       "      <td>posizione</td>\n",
       "      <td>5733</td>\n",
       "      <td>['POINT (10.7835 45.1499)', 'POINT (10.7835 45...</td>\n",
       "    </tr>\n",
       "    <tr>\n",
       "      <th>3</th>\n",
       "      <td>AI_SuperficieCalcolata</td>\n",
       "      <td>float64</td>\n",
       "      <td>lat</td>\n",
       "      <td>5730</td>\n",
       "      <td>[12.0, 128.0, 18.0]</td>\n",
       "    </tr>\n",
       "    <tr>\n",
       "      <th>4</th>\n",
       "      <td>ISC_Geometry</td>\n",
       "      <td>object</td>\n",
       "      <td>geometry</td>\n",
       "      <td>5733</td>\n",
       "      <td>['MULTIPOLYGON (((10.783887942194134 45.150017...</td>\n",
       "    </tr>\n",
       "    <tr>\n",
       "      <th>5</th>\n",
       "      <td>ISC_ShapeLeng</td>\n",
       "      <td>float64</td>\n",
       "      <td>shape</td>\n",
       "      <td>5733</td>\n",
       "      <td>[577.102281765, 577.102281765, 3178.32180066]</td>\n",
       "    </tr>\n",
       "    <tr>\n",
       "      <th>6</th>\n",
       "      <td>ISC_ShapeArea</td>\n",
       "      <td>float64</td>\n",
       "      <td>shape</td>\n",
       "      <td>5733</td>\n",
       "      <td>[11747.5895737, 11747.5895737, 177693.4543]</td>\n",
       "    </tr>\n",
       "    <tr>\n",
       "      <th>7</th>\n",
       "      <td>OV_ValoreMercatoMax_normale</td>\n",
       "      <td>float64</td>\n",
       "      <td>x_</td>\n",
       "      <td>5733</td>\n",
       "      <td>[262.5, 1050.0, 950.0]</td>\n",
       "    </tr>\n",
       "    <tr>\n",
       "      <th>8</th>\n",
       "      <td>OV_ValoreMercatoMax_ottimo</td>\n",
       "      <td>float64</td>\n",
       "      <td>x_</td>\n",
       "      <td>2280</td>\n",
       "      <td>[425.0, 1700.0, 1500.0]</td>\n",
       "    </tr>\n",
       "    <tr>\n",
       "      <th>9</th>\n",
       "      <td>OV_ValoreMercatoMax_scadente</td>\n",
       "      <td>float64</td>\n",
       "      <td>x_</td>\n",
       "      <td>385</td>\n",
       "      <td>[750.0, 750.0, 750.0]</td>\n",
       "    </tr>\n",
       "    <tr>\n",
       "      <th>10</th>\n",
       "      <td>OV_ValoreLocazioneMax_normale</td>\n",
       "      <td>float64</td>\n",
       "      <td>x_</td>\n",
       "      <td>5082</td>\n",
       "      <td>[7.3, 4.5, 5.5]</td>\n",
       "    </tr>\n",
       "    <tr>\n",
       "      <th>11</th>\n",
       "      <td>OV_ValoreLocazioneMax_ottimo</td>\n",
       "      <td>float64</td>\n",
       "      <td>x_</td>\n",
       "      <td>1724</td>\n",
       "      <td>[7.5, 6.5, 7.0]</td>\n",
       "    </tr>\n",
       "    <tr>\n",
       "      <th>12</th>\n",
       "      <td>PC_PoligonoGeoJson</td>\n",
       "      <td>object</td>\n",
       "      <td>geojson</td>\n",
       "      <td>5733</td>\n",
       "      <td>['{\"type\": \"FeatureCollection\", \"features\": [{...</td>\n",
       "    </tr>\n",
       "    <tr>\n",
       "      <th>13</th>\n",
       "      <td>POI_pharmacy_count</td>\n",
       "      <td>int64</td>\n",
       "      <td>y_</td>\n",
       "      <td>5733</td>\n",
       "      <td>[1, 1, 1]</td>\n",
       "    </tr>\n",
       "    <tr>\n",
       "      <th>14</th>\n",
       "      <td>POI_university_count</td>\n",
       "      <td>int64</td>\n",
       "      <td>y_</td>\n",
       "      <td>5733</td>\n",
       "      <td>[1, 1, 2]</td>\n",
       "    </tr>\n",
       "  </tbody>\n",
       "</table>\n",
       "</div>"
      ],
      "text/plain": [
       "                          Colonna     Tipo    Pattern  NonNull_Count  \\\n",
       "0                   AI_Latitudine  float64        lat           5733   \n",
       "1                  AI_Longitudine  float64        lon           5733   \n",
       "2                    AI_Posizione   object  posizione           5733   \n",
       "3          AI_SuperficieCalcolata  float64        lat           5730   \n",
       "4                    ISC_Geometry   object   geometry           5733   \n",
       "5                   ISC_ShapeLeng  float64      shape           5733   \n",
       "6                   ISC_ShapeArea  float64      shape           5733   \n",
       "7     OV_ValoreMercatoMax_normale  float64         x_           5733   \n",
       "8      OV_ValoreMercatoMax_ottimo  float64         x_           2280   \n",
       "9    OV_ValoreMercatoMax_scadente  float64         x_            385   \n",
       "10  OV_ValoreLocazioneMax_normale  float64         x_           5082   \n",
       "11   OV_ValoreLocazioneMax_ottimo  float64         x_           1724   \n",
       "12             PC_PoligonoGeoJson   object    geojson           5733   \n",
       "13             POI_pharmacy_count    int64         y_           5733   \n",
       "14           POI_university_count    int64         y_           5733   \n",
       "\n",
       "                                               Esempi  \n",
       "0   [45.149932861328125, 45.149932861328125, 45.15...  \n",
       "1   [10.783458709716797, 10.783458709716797, 10.76...  \n",
       "2   ['POINT (10.7835 45.1499)', 'POINT (10.7835 45...  \n",
       "3                                 [12.0, 128.0, 18.0]  \n",
       "4   ['MULTIPOLYGON (((10.783887942194134 45.150017...  \n",
       "5       [577.102281765, 577.102281765, 3178.32180066]  \n",
       "6         [11747.5895737, 11747.5895737, 177693.4543]  \n",
       "7                              [262.5, 1050.0, 950.0]  \n",
       "8                             [425.0, 1700.0, 1500.0]  \n",
       "9                               [750.0, 750.0, 750.0]  \n",
       "10                                    [7.3, 4.5, 5.5]  \n",
       "11                                    [7.5, 6.5, 7.0]  \n",
       "12  ['{\"type\": \"FeatureCollection\", \"features\": [{...  \n",
       "13                                          [1, 1, 1]  \n",
       "14                                          [1, 1, 2]  "
      ]
     },
     "metadata": {},
     "output_type": "display_data"
    },
    {
     "name": "stdout",
     "output_type": "stream",
     "text": [
      "\n",
      "💾 Check geospaziale salvato in eda_outputs/geospatial_columns_check.csv\n"
     ]
    }
   ],
   "source": [
    "\n",
    "print(\"=\" * 60)\n",
    "print(\"🗺️  CHECK GEOSPAZIALE RAPIDO\")\n",
    "print(\"=\" * 60)\n",
    "\n",
    "candidates = []\n",
    "all_cols = df_raw.columns.tolist()\n",
    "\n",
    "# Pattern di interesse\n",
    "geo_patterns = [\n",
    "    'wkt', 'geometry', 'geom', 'geojson', 'the_geom', 'shape', 'polygon', 'point', 'linestring',\n",
    "    'lat', 'latitude', 'lon', 'lng', 'longitude', 'coord', 'x_', 'y_', 'easting', 'northing',\n",
    "    'geo', 'spatial', 'location', 'posizione', 'indirizzo', 'address'\n",
    "]\n",
    "\n",
    "for col in all_cols:\n",
    "    col_l = col.lower()\n",
    "    for pat in geo_patterns:\n",
    "        if pat in col_l:\n",
    "            sample_vals = df_raw[col].dropna().head(3).tolist()\n",
    "            candidates.append({\n",
    "                'Colonna': col,\n",
    "                'Tipo': str(df_raw[col].dtype),\n",
    "                'Pattern': pat,\n",
    "                'NonNull_Count': int(df_raw[col].count()),\n",
    "                'Esempi': str(sample_vals)[:100]  # Limita lunghezza esempi\n",
    "            })\n",
    "            break\n",
    "\n",
    "if not candidates:\n",
    "    print(\"\\n❌ Nessuna colonna geospaziale candidata individuata\")\n",
    "else:\n",
    "    geo_df = pd.DataFrame(candidates).drop_duplicates(subset=['Colonna', 'Pattern'])\n",
    "    print(f\"\\n🗺️  Colonne candidate geospaziali: {len(geo_df)}\")\n",
    "    display(geo_df)\n",
    "    \n",
    "    # Salva risultati\n",
    "    geo_df.to_csv(output_dir / 'geospatial_columns_check.csv', index=False)\n",
    "    print(f\"\\n💾 Check geospaziale salvato in {output_dir}/geospatial_columns_check.csv\")\n"
   ]
  },
  {
   "cell_type": "markdown",
   "id": "1a586754",
   "metadata": {},
   "source": [
    "## 8. Riepilogo finale"
   ]
  },
  {
   "cell_type": "code",
   "execution_count": 13,
   "id": "728fdc96",
   "metadata": {},
   "outputs": [
    {
     "name": "stdout",
     "output_type": "stream",
     "text": [
      "============================================================\n",
      "🎉 ANALISI ESPLORATIVA COMPLETATA\n",
      "============================================================\n",
      "\n",
      "📊 Dataset analizzato:\n",
      "  • Dimensioni: 5,733 righe × 262 colonne\n",
      "  • Target: AI_Prezzo_Ridistribuito\n",
      "  • Memoria: 43.63 MB\n",
      "\n",
      "💾 File generati in eda_outputs/:\n",
      "  • correlations_with_target.csv\n",
      "  • geospatial_columns_check.csv\n",
      "  • group_summary_AI_IdCategoriaCatastale.csv\n",
      "  • group_summary_AI_ZonaOmi.csv\n",
      "  • missingness_analysis.csv\n",
      "  • target_statistics.csv\n",
      "\n",
      "✅ Analisi completata con successo!\n",
      "Puoi ora procedere con il preprocessing e il training del modello.\n"
     ]
    }
   ],
   "source": [
    "\n",
    "print(\"=\" * 60)\n",
    "print(\"🎉 ANALISI ESPLORATIVA COMPLETATA\")\n",
    "print(\"=\" * 60)\n",
    "\n",
    "print(f\"\\n📊 Dataset analizzato:\")\n",
    "print(f\"  • Dimensioni: {df_raw.shape[0]:,} righe × {df_raw.shape[1]} colonne\")\n",
    "print(f\"  • Target: {target_col}\")\n",
    "print(f\"  • Memoria: {df_raw.memory_usage(deep=True).sum() / 1024**2:.2f} MB\")\n",
    "\n",
    "print(f\"\\n💾 File generati in {output_dir}/:\")\n",
    "output_files = list(output_dir.glob('*.csv'))\n",
    "for f in output_files:\n",
    "    print(f\"  • {f.name}\")\n",
    "\n",
    "print(f\"\\n✅ Analisi completata con successo!\")\n",
    "print(f\"Puoi ora procedere con il preprocessing e il training del modello.\")\n"
   ]
  }
 ],
 "metadata": {
  "kernelspec": {
   "display_name": "stimatrix",
   "language": "python",
   "name": "python3"
  },
  "language_info": {
   "codemirror_mode": {
    "name": "ipython",
    "version": 3
   },
   "file_extension": ".py",
   "mimetype": "text/x-python",
   "name": "python",
   "nbconvert_exporter": "python",
   "pygments_lexer": "ipython3",
   "version": "3.12.7"
  }
 },
 "nbformat": 4,
 "nbformat_minor": 5
}
