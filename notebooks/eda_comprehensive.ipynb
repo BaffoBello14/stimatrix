## 1. Setup e Import Avanzati# 📊 Analisi Esplorativa Completa - Multi-Target & Correlazioni Avanzate

Questo notebook estende l'analisi EDA originale con:

## 🎯 **Obiettivi Avanzati:**
1. **Multi-Target Analysis**: Analisi comparativa di `AI_Prezzo_Ridistribuito` e `AI_Prezzo_MQ`
2. **Correlazioni Complete**: Pearson, Spearman, Kendall per variabili numeriche
3. **Associazioni Categoriche**: Cramér's V, Chi-quadrato, Mutual Information
4. **Correlazioni Miste**: Correlation Ratio per numeriche-categoriche
5. **Network Analysis**: Identificazione di cluster di variabili correlate
6. **Feature Importance Comparativa**: Ranking delle feature per ciascun target

## 📈 **Metodologie Utilizzate:**
- **Correlazioni Robuste**: Multiple misure per catturare relazioni lineari e non-lineari
- **Analisi Categoriche**: Test statistici appropriati per variabili discrete
- **Visualizzazioni Avanzate**: Heatmap, network graphs, scatter plots interattivi
- **Analisi Comparativa**: Confronto sistematico tra i due target